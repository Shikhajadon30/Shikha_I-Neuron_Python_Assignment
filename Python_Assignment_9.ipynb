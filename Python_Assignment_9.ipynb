{
 "cells": [
  {
   "cell_type": "raw",
   "id": "a65a4d65",
   "metadata": {},
   "source": [
    "Question:-1. To what does a relative path refer?\n",
    "\n",
    "Answer:-Relative paths are relative to the current working directory."
   ]
  },
  {
   "cell_type": "raw",
   "id": "a34b885e",
   "metadata": {},
   "source": [
    "Question:-2. What does an absolute path start with your operating system?\n",
    "\n",
    "Answer:-Absolute paths start with the root folder, such as / or C:\\."
   ]
  },
  {
   "cell_type": "raw",
   "id": "d3aae2fb",
   "metadata": {},
   "source": [
    "Question:-3. What do the functions os.getcwd() and os.chdir() do?\n",
    "\n",
    "Answer:-The os.getcwd() function returns the current working directory. The os.chdir() function changes the current working             directory."
   ]
  },
  {
   "cell_type": "raw",
   "id": "9801e333",
   "metadata": {},
   "source": [
    "Question:-4. What are the . and .. folders?\n",
    "\n",
    "Answer:-The . folder is the current folder, and .. is the parent folder."
   ]
  },
  {
   "cell_type": "raw",
   "id": "590a15f3",
   "metadata": {},
   "source": [
    "Question:-5. In C:\\bacon\\eggs\\spam.txt, which part is the dir name, and which part is the base name?\n",
    "\n",
    "Answer:-C:\\bacon\\eggs is the dir name, while spam.txt is the base name."
   ]
  },
  {
   "cell_type": "raw",
   "id": "55a894e6",
   "metadata": {},
   "source": [
    "Question:-6. What are the three “mode” arguments that can be passed to the open() function?\n",
    "\n",
    "Answer:-The string 'r' for read mode, 'w' for write mode, and 'a' for append mode."
   ]
  },
  {
   "cell_type": "raw",
   "id": "30981b1c",
   "metadata": {},
   "source": [
    "Question:-7. What happens if an existing file is opened in write mode?\n",
    "\n",
    "Answer:-An existing file opened in write mode is erased and completely overwritten."
   ]
  },
  {
   "cell_type": "raw",
   "id": "be352b45",
   "metadata": {},
   "source": [
    "Question:-8. How do you tell the difference between read() and readlines()?\n",
    "\n",
    "Answer:-The read() method returns the file’s entire contents as a single string value. The readlines() method returns a list of         strings, where each string is a line from the file’s contents"
   ]
  },
  {
   "cell_type": "raw",
   "id": "ae977046",
   "metadata": {},
   "source": [
    "Question:-9. What data structure does a shelf value resemble?\n",
    "\n",
    "Answer:- A shelf value resembles a dictionary value; it has keys and values, along with keys() and values() methods that work            similarly to the dictionary methods of the same names."
   ]
  }
 ],
 "metadata": {
  "kernelspec": {
   "display_name": "Python 3 (ipykernel)",
   "language": "python",
   "name": "python3"
  },
  "language_info": {
   "codemirror_mode": {
    "name": "ipython",
    "version": 3
   },
   "file_extension": ".py",
   "mimetype": "text/x-python",
   "name": "python",
   "nbconvert_exporter": "python",
   "pygments_lexer": "ipython3",
   "version": "3.9.7"
  }
 },
 "nbformat": 4,
 "nbformat_minor": 5
}
