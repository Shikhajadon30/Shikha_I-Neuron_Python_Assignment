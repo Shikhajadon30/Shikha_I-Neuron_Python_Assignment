{
 "cells": [
  {
   "cell_type": "raw",
   "id": "0c119ebf",
   "metadata": {},
   "source": [
    "Question:-1. Add the current date to the text file today.txt as a string.\n",
    "\n",
    "Answer:- \n",
    "from datetime import date\n",
    "now = date.today()\n",
    "now_str = now.isoformat()\n",
    "with open('today.txt', 'wt') as output:\n",
    "    print(now_str, file=output)"
   ]
  },
  {
   "cell_type": "raw",
   "id": "815ace80",
   "metadata": {},
   "source": [
    "Question:-2. Read the text file today.txt into the string today_string\n",
    "    \n",
    "Answer:-\n",
    "with open('today.txt', 'rt') as input:\n",
    "    today_string = input.read()\n",
    "    \n",
    "today_string\n",
    "\n",
    "Output:- '2022-05-23\\n'"
   ]
  },
  {
   "cell_type": "raw",
   "id": "f0968dd7",
   "metadata": {},
   "source": [
    "Question:- 3. Parse the date from today_string.\n",
    "\n",
    "Answer:-\n",
    "from datetime import datetime\n",
    "fmt = '%Y-%m-%d\\n'\n",
    "datetime.strptime(today_string, fmt)\n",
    "\n",
    "Output:-datetime.datetime(2022, 5, 23, 0, 0)"
   ]
  },
  {
   "cell_type": "raw",
   "id": "58713d37",
   "metadata": {},
   "source": [
    "Question:- 4. List the files in your current directory\n",
    "\n",
    "Answer:-\n",
    "import os\n",
    "os.listdir('.')"
   ]
  },
  {
   "cell_type": "raw",
   "id": "ea4b2b9b",
   "metadata": {},
   "source": [
    "Question:-5. Create a list of all of the files in your parent directory (minimum five files should be available).\n",
    "\n",
    "Answer:-  os.listdir('..')\n",
    "\n",
    "Output:-\n",
    "['All Users',\n",
    " 'Default',\n",
    " 'Default User',\n",
    " 'desktop.ini',\n",
    " 'Public',\n",
    " 'SUDEEP KUMAR SINGH',\n",
    " 'Yash']"
   ]
  },
  {
   "cell_type": "raw",
   "id": "51972d46",
   "metadata": {},
   "source": [
    "Question:- 6. Use multiprocessing to create three separate processes. Make each one wait a random number of\n",
    "seconds between one and five, print the current time, and then exit.\n",
    "\n",
    "Answer:-!python multi_process.py"
   ]
  },
  {
   "cell_type": "raw",
   "id": "0180e79b",
   "metadata": {},
   "source": [
    "Question:-7. Create a date object of your day of birth.\n",
    "\n",
    "Answer:- \n",
    "my_day = date(1992, 8, 21)\n",
    "my_day\n",
    "\n",
    "Output:- datetime.date(1992, 8, 21)\n"
   ]
  },
  {
   "cell_type": "raw",
   "id": "09239011",
   "metadata": {},
   "source": [
    "Question:- 8. What day of the week was your day of birth?\n",
    "\n",
    "Answer:-  my_day.isoweekday()\n",
    "\n",
    "Output:-  5"
   ]
  },
  {
   "cell_type": "raw",
   "id": "921d3ac3",
   "metadata": {},
   "source": [
    "Question:- 9. When will you be (or when were you) 10,000 days old?\n",
    "\n",
    "Answer:-\n",
    "from datetime import timedelta\n",
    "ten_thousand = my_day + timedelta(days=10000)\n",
    "ten_thousand\n",
    "\n",
    "Output:- datetime.date(2020, 1, 7)"
   ]
  }
 ],
 "metadata": {
  "kernelspec": {
   "display_name": "Python 3 (ipykernel)",
   "language": "python",
   "name": "python3"
  },
  "language_info": {
   "codemirror_mode": {
    "name": "ipython",
    "version": 3
   },
   "file_extension": ".py",
   "mimetype": "text/x-python",
   "name": "python",
   "nbconvert_exporter": "python",
   "pygments_lexer": "ipython3",
   "version": "3.9.7"
  }
 },
 "nbformat": 4,
 "nbformat_minor": 5
}
