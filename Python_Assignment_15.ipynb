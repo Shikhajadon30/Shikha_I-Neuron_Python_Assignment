{
 "cells": [
  {
   "cell_type": "raw",
   "id": "848c6d5b",
   "metadata": {},
   "source": [
    "Question:-1.How many seconds are in an hour? Use the interactive interpreter as a calculator and multiply the\n",
    "number of seconds in a minute (60) by the number of minutes in an hour (also 60).\n",
    "\n",
    "Answer:- \n",
    "60*60\n",
    "3600"
   ]
  },
  {
   "cell_type": "raw",
   "id": "368012ad",
   "metadata": {},
   "source": [
    "Question:-2. Assign the result from the previous task (seconds in an hour) to a variable called\n",
    "seconds_per_hour.\n",
    "\n",
    "Answer:- \n",
    "seconds_per_hour=3600"
   ]
  },
  {
   "cell_type": "raw",
   "id": "4e375296",
   "metadata": {},
   "source": [
    "Question:-3. How many seconds do you think there are in a day? Make use of the variables seconds per hour\n",
    "and minutes per hour.\n",
    "\n",
    "Answer:- \n",
    "seconds_per_hour*24\n",
    "         86400"
   ]
  },
  {
   "cell_type": "raw",
   "id": "4731209f",
   "metadata": {},
   "source": [
    "Question:-4. Calculate seconds per day again, but this time save the result in a variable called seconds_per_day\n",
    "\n",
    "Answer:- \n",
    "seconds_per_day = seconds_per_hour*24\n",
    "seconds_per_day\n",
    "86400\n"
   ]
  },
  {
   "cell_type": "raw",
   "id": "a5e40869",
   "metadata": {},
   "source": [
    "Question:-5 Divide seconds_per_day by seconds_per_hour. Use floating-point (/) division.\n",
    "\n",
    "Answer:-\n",
    "seconds_per_day/seconds_per_hour\n",
    "24.0"
   ]
  },
  {
   "cell_type": "raw",
   "id": "7540871d",
   "metadata": {},
   "source": [
    "Question:- 6. Divide seconds_per_day by seconds_per_hour, using integer (//) division. Did this number agree\n",
    "with the floating-point value from the previous question, aside from the final .0?\n",
    "\n",
    "Answer:-\n",
    "seconds_per_day // seconds_per_hour\n",
    "24"
   ]
  },
  {
   "cell_type": "raw",
   "id": "993846b2",
   "metadata": {},
   "source": [
    "Question:- 7. Write a generator, genPrimes, that returns the sequence of prime numbers on successive calls to\n",
    "its next() method: 2, 3, 5, 7, 11, ...\n",
    "\n",
    "Answer:- \n",
    "def genPrimes():\n",
    "    primes = []\n",
    "    n = 2\n",
    "    last = n\n",
    "\n",
    "    while True:\n",
    "        for i in primes:\n",
    "            if n % i == 0:\n",
    "                n += 1\n",
    "                break\n",
    "\n",
    "        else:\n",
    "            primes.append(n)\n",
    "            last = n\n",
    "            n += 1\n",
    "            yield last"
   ]
  }
 ],
 "metadata": {
  "kernelspec": {
   "display_name": "Python 3 (ipykernel)",
   "language": "python",
   "name": "python3"
  },
  "language_info": {
   "codemirror_mode": {
    "name": "ipython",
    "version": 3
   },
   "file_extension": ".py",
   "mimetype": "text/x-python",
   "name": "python",
   "nbconvert_exporter": "python",
   "pygments_lexer": "ipython3",
   "version": "3.9.7"
  }
 },
 "nbformat": 4,
 "nbformat_minor": 5
}
