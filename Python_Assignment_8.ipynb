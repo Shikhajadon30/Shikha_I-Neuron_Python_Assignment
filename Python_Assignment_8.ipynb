{
 "cells": [
  {
   "cell_type": "raw",
   "id": "376c8936",
   "metadata": {},
   "source": [
    "Question:- 1. Is the Python Standard Library included with PyInputPlus?\n",
    "\n",
    "Answer:-PyInputPlus is not a part of the Python Standard Library, so you must install it separately using Pip."
   ]
  },
  {
   "cell_type": "raw",
   "id": "bdb27291",
   "metadata": {},
   "source": [
    "Question:-2. Why is PyInputPlus commonly imported with import pyinputplus as pypi?\n",
    "\n",
    "Answer:-pypi is alias of PyInputPlus. The as pyip code in the import statement saves us from typing pyinputplus each time we           want to call a PyInputPlus function. Instead we can use the shorter pyip name"
   ]
  },
  {
   "cell_type": "raw",
   "id": "9c1e4bb5",
   "metadata": {},
   "source": [
    "Question:- 3. How do you distinguish between inputInt() and inputFloat()?\n",
    "\n",
    "Answer:-inputInt() : Accepts an integer value, and returns int value\n",
    "        inputFloat() : Accepts integer/floating point value and returns float value"
   ]
  },
  {
   "cell_type": "raw",
   "id": "5de4f80f",
   "metadata": {},
   "source": [
    "Question:-4. Using PyInputPlus, how do you ensure that the user enters a whole number between 0 and 99?\n",
    "\n",
    "Answer:- In the inputint function we can set the min = 0 and max =99 to ensure user enters number between 0 and 99"
   ]
  },
  {
   "cell_type": "raw",
   "id": "e75a326b",
   "metadata": {},
   "source": [
    "Question:-5. What is transferred to the keyword arguments allowRegexes and blockRegexes?\n",
    "\n",
    "Answer:-We can also use regular expressions to specify whether an input is allowed or not. The allowRegexes and blockRegexes           keyword arguments take a list of regular expression strings to determine what the PyInputPlus function will accept or           reject as valid input."
   ]
  },
  {
   "cell_type": "raw",
   "id": "dac2de44",
   "metadata": {},
   "source": [
    "Question:-6. If a blank input is entered three times, what does inputStr(limit=3) do?\n",
    "\n",
    "Answer:- It will throw RetryLimitException exception."
   ]
  },
  {
   "cell_type": "raw",
   "id": "4ebb6c19",
   "metadata": {},
   "source": [
    "Question:-7. If blank input is entered three times, what does inputStr(limit=3, default='hello') do?\n",
    "\n",
    "Answer:-When we use limit keyword arguments and also pass a default keyword argument, the function returns the default value           instead of raising an exception"
   ]
  }
 ],
 "metadata": {
  "kernelspec": {
   "display_name": "Python 3 (ipykernel)",
   "language": "python",
   "name": "python3"
  },
  "language_info": {
   "codemirror_mode": {
    "name": "ipython",
    "version": 3
   },
   "file_extension": ".py",
   "mimetype": "text/x-python",
   "name": "python",
   "nbconvert_exporter": "python",
   "pygments_lexer": "ipython3",
   "version": "3.9.7"
  }
 },
 "nbformat": 4,
 "nbformat_minor": 5
}
