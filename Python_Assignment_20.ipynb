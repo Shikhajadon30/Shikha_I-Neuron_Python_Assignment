{
 "cells": [
  {
   "cell_type": "raw",
   "id": "0f4cd92b",
   "metadata": {},
   "source": [
    "Question:-1. Set the variable test1 to the string 'This is a test of the emergency text system,' and save test1 to a\n",
    "file named test.txt.\n",
    "\n",
    "Answer:-\n",
    "test1 = 'This is a test of the emergency text system'\n",
    "with open('test.txt', 'wt') as outfile:\n",
    "    outfile.write(test1)"
   ]
  },
  {
   "cell_type": "raw",
   "id": "9b3e5866",
   "metadata": {},
   "source": [
    "Question:- 2. Read the contents of the file test.txt into the variable test2. Is there a difference between test 1\n",
    "and test 2?\n",
    "\n",
    "Answer:-\n",
    "with open('test.txt', 'rt') as infile:\n",
    "    test2 = infile.read()\n",
    "len(test2)\n",
    "\n",
    "test1 == test2\n",
    "\n",
    "Output:- True\n",
    "\n",
    "No difference between test 1 and test 2?"
   ]
  },
  {
   "cell_type": "raw",
   "id": "699dae53",
   "metadata": {},
   "source": [
    "Question3. Create a CSV file called books.csv by using these lines:\n",
    "title,author,year\n",
    "The Weirdstone of Brisingamen,Alan Garner,1960\n",
    "Perdido Street Station,China Miéville,2000\n",
    "Thud!,Terry Pratchett,2005\n",
    "The Spellman Files,Lisa Lutz,2007\n",
    "Small Gods,Terry Pratchett,1992\n",
    "\n",
    "Answer:-\n",
    "text = '''title,author,year\n",
    "The Weirdstone of Brisingamen,Alan Garner,1960\n",
    "Perdido Street Station,China Miéville,2000\n",
    "Thud!,Terry Pratchett,2005\n",
    "The Spellman Files,Lisa Lutz,2007\n",
    "Small Gods,Terry Pratchett,1992\n",
    "'''\n",
    "with open('books.csv', 'wt') as outfile:\n",
    "    outfile.write(text)"
   ]
  },
  {
   "cell_type": "raw",
   "id": "e5e81e17",
   "metadata": {},
   "source": [
    "Question:-4. Use the sqlite3 module to create a SQLite database called books.db, and a table called books with\n",
    "these fields: title (text), author (text), and year (integer).\n",
    "\n",
    "Answer:-\n",
    "import sqlite3\n",
    "db = sqlite3.connect('books.db')\n",
    "curs = db.cursor()\n",
    "curs.execute('''create table book (title text, author text, year int)''')\n",
    "\n",
    "Output:- <sqlite3.Cursor at 0x23a39340340>"
   ]
  },
  {
   "cell_type": "raw",
   "id": "8ce4d9b1",
   "metadata": {},
   "source": [
    "Question:-5. Read books.csv and insert its data into the book table.\n",
    "\n",
    "Answer:-\n",
    "import csv\n",
    "import sqlite3\n",
    "ins_str = 'insert into book values(?, ?, ?)'\n",
    "with open('books.csv', 'rt') as infile:\n",
    "    books = csv.DictReader(infile)\n",
    "    for book in books:\n",
    "        curs.execute(ins_str, (book['title'], book['author'], book['year']))\n",
    "db.commit()"
   ]
  },
  {
   "cell_type": "raw",
   "id": "36b4da01",
   "metadata": {},
   "source": [
    "Question:- 6. Select and print the title column from the book table in alphabetical order.\n",
    "\n",
    "Answer:-\n",
    "sql = 'select title from book order by title asc'\n",
    "for row in db.execute(sql):\n",
    "    print(row)\n",
    "\n",
    "Output:-\n",
    "('Perdido Street Station',)\n",
    "('Small Gods',)\n",
    "('The Spellman Files',)\n",
    "('The Weirdstone of Brisingamen',)\n",
    "('Thud!',)"
   ]
  },
  {
   "cell_type": "raw",
   "id": "d8fab71d",
   "metadata": {},
   "source": [
    "Question:-7. From the book table, select and print all columns in the order of publication.\n",
    "\n",
    "Answer:-\n",
    "for row in db.execute('select * from book order by year'):\n",
    "    print(row)\n",
    "    \n",
    "Output:-\n",
    "('The Weirdstone of Brisingamen', 'Alan Garner', 1960)\n",
    "('Small Gods', 'Terry Pratchett', 1992)\n",
    "('Perdido Street Station', 'China Miéville', 2000)\n",
    "('Thud!', 'Terry Pratchett', 2005)\n",
    "('The Spellman Files', 'Lisa Lutz', 2007)"
   ]
  },
  {
   "cell_type": "raw",
   "id": "9d378aa0",
   "metadata": {},
   "source": [
    "Question:-8. Use the sqlalchemy module to connect to the sqlite3 database books.db that you just made in\n",
    "exercise 6.\n",
    "\n",
    "Answer:-\n",
    "import sqlalchemy\n",
    "conn = sqlalchemy.create_engine('sqlite:///books.db')\n",
    "sql = 'select title from book order by title asc'\n",
    "rows = conn.execute(sql)\n",
    "for row in rows:\n",
    "    print(row)\n",
    "    \n",
    "Output:-\n",
    "('Perdido Street Station',)\n",
    "('Small Gods',)\n",
    "('The Spellman Files',)\n",
    "('The Weirdstone of Brisingamen',)\n",
    "('Thud!',)"
   ]
  },
  {
   "cell_type": "raw",
   "id": "7998bf88",
   "metadata": {},
   "source": [
    "Question:-9. Install the Redis server and the Python redis library (pip install redis) on your computer. Create a\n",
    "Redis hash called test with the fields count (1) and name (&#39;Fester Bestertester&#39;). Print all the fields for\n",
    "test.\n",
    "\n",
    "Answer:-\n",
    "import redis\n",
    "conn = redis.Redis()\n",
    "conn.delete('test')\n",
    "\n",
    "conn.hmset('test', {'count': 1, 'name': 'Fester Bestertester'})\n",
    "\n",
    "conn.hgetall('test')\n",
    "\n"
   ]
  },
  {
   "cell_type": "raw",
   "id": "0d5b93d1",
   "metadata": {},
   "source": [
    "Question:-10. Increment the count field of test and print it.\n",
    "\n",
    "Answer:-\n",
    "conn.hincrby('test', 'count', 3)\n",
    "conn.hget('test', 'count')"
   ]
  }
 ],
 "metadata": {
  "kernelspec": {
   "display_name": "Python 3 (ipykernel)",
   "language": "python",
   "name": "python3"
  },
  "language_info": {
   "codemirror_mode": {
    "name": "ipython",
    "version": 3
   },
   "file_extension": ".py",
   "mimetype": "text/x-python",
   "name": "python",
   "nbconvert_exporter": "python",
   "pygments_lexer": "ipython3",
   "version": "3.9.7"
  }
 },
 "nbformat": 4,
 "nbformat_minor": 5
}
