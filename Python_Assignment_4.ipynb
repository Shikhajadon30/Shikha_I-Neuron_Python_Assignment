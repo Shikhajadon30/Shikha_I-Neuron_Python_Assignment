{
 "cells": [
  {
   "cell_type": "raw",
   "id": "d4288f62",
   "metadata": {},
   "source": [
    "Question:- 1. What exactly is []?\n",
    "\n",
    "Answer:-The empty list value, which is a list value that contains no items. This is similar to how '' is the empty string value."
   ]
  },
  {
   "cell_type": "raw",
   "id": "fd58ddd8",
   "metadata": {},
   "source": [
    "Question:-2. In a list of values stored in a variable called spam, how would you assign the value 'hello' as the\n",
    "third value? (Assume [2, 4, 6, 8, 10] are in spam.)\n",
    "For the following three questions, let's say spam contains the list ['a', 'b', 'c', 'd'].\n",
    "\n",
    "Answer:- spam[2] = 'hello' (Notice that the third value in a list is at index 2 because the first index is 0.)"
   ]
  },
  {
   "cell_type": "raw",
   "id": "73256987",
   "metadata": {},
   "source": [
    "Question:-3. What is the value of spam[int(int('3'* 2) / 11)]?\n",
    "\n",
    "Answer:- 'd' (Note that '3' * 2 is the string '33', which is passed to int() before being divided by 11. This eventually                     evaluates to 3. Expressions can be used wherever values are used.)"
   ]
  },
  {
   "cell_type": "raw",
   "id": "74547004",
   "metadata": {},
   "source": [
    "Question:- 4. What is the value of spam[-1]?\n",
    "\n",
    "Answer:- 'd' (Negative indexes count from the end.)"
   ]
  },
  {
   "cell_type": "raw",
   "id": "5fd188e3",
   "metadata": {},
   "source": [
    "Question:- 5. What is the value of spam[:2]?\n",
    "              for the following three questions, let's say bacon contains the list [3.14, 'cat', 11, 'cat', True].\n",
    "              \n",
    "Answer:- ['a', 'b']"
   ]
  },
  {
   "cell_type": "raw",
   "id": "9cd66b4a",
   "metadata": {},
   "source": [
    "Question:- 6. What is the value of bacon.index('cat')?\n",
    "\n",
    "Answer:- 1"
   ]
  },
  {
   "cell_type": "raw",
   "id": "f648566a",
   "metadata": {},
   "source": [
    "Question:- 7. How does bacon.append(99) change the look of the list value in bacon?\n",
    "\n",
    "Answer:- [3.14, 'cat', 11, 'cat', True, 99]"
   ]
  },
  {
   "cell_type": "raw",
   "id": "515f1768",
   "metadata": {},
   "source": [
    "Question:-8. How does bacon.remove('cat') change the look of the list in bacon?\n",
    "\n",
    "Answer:- [3.14, 11, 'cat', True]"
   ]
  },
  {
   "cell_type": "raw",
   "id": "b35b3d72",
   "metadata": {},
   "source": [
    "Question:-What are the list concatenation and list replication operators?\n",
    "\n",
    "Answer:-The operator for list concatenation is +, while the operator for replication is *. (Same as for strings.)"
   ]
  },
  {
   "cell_type": "raw",
   "id": "b7564083",
   "metadata": {},
   "source": [
    "Question:- 10. What is difference between the list methods append() and insert()?\n",
    "\n",
    "Answer:- While append() will add values only to the end of a list, insert() can add them anywhere in the list."
   ]
  },
  {
   "cell_type": "raw",
   "id": "468897e9",
   "metadata": {},
   "source": [
    "Question:-11. What are the two methods for removing items from a list?\n",
    "\n",
    "Answer:- The del statement and the remove() list method are two ways to remove values from a list."
   ]
  },
  {
   "cell_type": "raw",
   "id": "b1f5d334",
   "metadata": {},
   "source": [
    "Question:-12.Describe how list values and string values are identical.\n",
    "\n",
    "Answer:-Both lists and strings can be passed to len(), have indexes and slices, be used in for loops, be concatenated or               replicated, and be used with the in and not in operators."
   ]
  },
  {
   "cell_type": "raw",
   "id": "28db6350",
   "metadata": {},
   "source": [
    "Question:-13. What's the difference between tuples and lists?\n",
    "\n",
    "Answer:-Lists are mutable; they can have values added, removed, or changed. Tuples are immutable; they cannot be changed at             all. Also, tuples are written using parentheses, ( and ), while lists use the square brackets, [ and ]."
   ]
  },
  {
   "cell_type": "raw",
   "id": "89e7eda3",
   "metadata": {},
   "source": [
    "Question:- 14. How do you type a tuple value that only contains the integer 42?\n",
    "\n",
    "Answer:- (42,) (Trailing comma is mandatory.)"
   ]
  },
  {
   "cell_type": "raw",
   "id": "1f2827a1",
   "metadata": {},
   "source": [
    "Question:- 15. How do you get a list value's tuple form? How do you get a tuple value's list form?\n",
    "\n",
    "Answer:- The tuple() and list() functions, respectively"
   ]
  },
  {
   "cell_type": "raw",
   "id": "d29d415f",
   "metadata": {},
   "source": [
    "Question:-16. Variables that \"contain\" list values are not necessarily lists themselves. Instead, what do they\n",
    "              contain?\n",
    "              \n",
    "Answer:- They contain references to list values."
   ]
  },
  {
   "cell_type": "raw",
   "id": "5fcb4d18",
   "metadata": {},
   "source": [
    "Question:- 17. How do you distinguish between copy.copy() and copy.deepcopy()?\n",
    "\n",
    "Answer:- The copy.copy() function will do a shallow copy of a list, while the copy.deepcopy() function will do a deep copy of a           list. That is, only copy.deepcopy() will duplicate any lists inside the list."
   ]
  }
 ],
 "metadata": {
  "kernelspec": {
   "display_name": "Python 3 (ipykernel)",
   "language": "python",
   "name": "python3"
  },
  "language_info": {
   "codemirror_mode": {
    "name": "ipython",
    "version": 3
   },
   "file_extension": ".py",
   "mimetype": "text/x-python",
   "name": "python",
   "nbconvert_exporter": "python",
   "pygments_lexer": "ipython3",
   "version": "3.9.7"
  }
 },
 "nbformat": 4,
 "nbformat_minor": 5
}
