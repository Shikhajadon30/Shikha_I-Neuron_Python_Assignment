{
 "cells": [
  {
   "cell_type": "raw",
   "id": "cc1693c6",
   "metadata": {},
   "source": [
    "Question:- 1. Why are functions advantageous to have in your programs?\n",
    "\n",
    "Answer:- Because Functions reduce the need for duplicate code. This makes programs shorter, easier to read, and easier to                update.\n"
   ]
  },
  {
   "cell_type": "raw",
   "id": "4559c7d6",
   "metadata": {},
   "source": [
    "Question:- 2. When does the code in a function run: when it's specified or when it's called?\n",
    "\n",
    "Answer:- The code in a function executes when the function is called, not when the function is specified."
   ]
  },
  {
   "cell_type": "raw",
   "id": "98ecabbe",
   "metadata": {},
   "source": [
    "Question:- 3. What statement creates a function?\n",
    "\n",
    "Answer:- The def statement creates a function."
   ]
  },
  {
   "cell_type": "raw",
   "id": "c31d171e",
   "metadata": {},
   "source": [
    "Question:- 4. What is the difference between a function and a function call?\n",
    "\n",
    "Answer:- A function consists of the def statement and the code in its def clause.\n",
    "\n",
    "A function call is what moves the program execution into the function, and the function call evaluates to the function's return value."
   ]
  },
  {
   "cell_type": "raw",
   "id": "48a9ac7a",
   "metadata": {},
   "source": [
    "Question:- 5. How many global scopes are there in a Python program? How many local scopes?\n",
    "\n",
    "Answer:- There is one global scope, and a local scope is created whenever a function is called."
   ]
  },
  {
   "cell_type": "raw",
   "id": "85c1452e",
   "metadata": {},
   "source": [
    "Question:- 6. What happens to variables in a local scope when the function call returns?\n",
    "\n",
    "Answer:- When a function call returns, the local scope is destroyed, and all the variables in it are forgotten."
   ]
  },
  {
   "cell_type": "raw",
   "id": "49461abd",
   "metadata": {},
   "source": [
    "Question:- 7. What is the concept of a return value? Is it possible to have a return value in an expression?\n",
    "\n",
    "Answer:- A return value is the value that a function call evaluates to. Like any value, a return value can be used as part of            an expression."
   ]
  },
  {
   "cell_type": "raw",
   "id": "78ac54d8",
   "metadata": {},
   "source": [
    "Question:-8. If a function does not have a return statement, what is the return value of a call to that function?\n",
    "\n",
    "Answer:-If there is no return statement for a function, its return value is None."
   ]
  },
  {
   "cell_type": "raw",
   "id": "ca71ad07",
   "metadata": {},
   "source": [
    "Question:-9. How do you make a function variable refer to the global variable?\n",
    "\n",
    "Answer:- A global statement make a variable in a function to refer to the global variable.\n"
   ]
  },
  {
   "cell_type": "raw",
   "id": "f805f2c5",
   "metadata": {},
   "source": [
    "Question:- 10. What is the data type of None?\n",
    "\n",
    "Answer:- The data type of None is NoneType."
   ]
  },
  {
   "cell_type": "raw",
   "id": "23dd39f2",
   "metadata": {},
   "source": [
    "Question:- 11. What does the sentence import areallyourpetsnamederic do?\n",
    "\n",
    "Answer:- That import statement imports a module named areallyourpetsnamederic. "
   ]
  },
  {
   "cell_type": "raw",
   "id": "55f1fa18",
   "metadata": {},
   "source": [
    "Question:- 12. If you had a bacon() feature in a spam module, what would you call it after importing spam?\n",
    "\n",
    "Answer:- This function can be called with spam.bacon()."
   ]
  },
  {
   "cell_type": "raw",
   "id": "1012e2e5",
   "metadata": {},
   "source": [
    "Question:- 13. What can you do to save a programme from crashing if it encounters an error?\n",
    "\n",
    "Answer;- When it encounters an error, the control is passed to the except block, skipping the code in between. We have moved our code inside a try and except statement. Try running the program and it should throw an error message instead of crashing the program."
   ]
  },
  {
   "cell_type": "raw",
   "id": "a290eddc",
   "metadata": {},
   "source": [
    "Question:- 14. What is the purpose of the try clause? What is the purpose of the except clause?\n",
    "\n",
    "Answer:- The try and except block in Python is used to catch and handle exceptions. Python executes code following the try statement as a “normal” part of the program. The code that follows the except statement is the program's response to any exceptions in the preceding try clause."
   ]
  }
 ],
 "metadata": {
  "kernelspec": {
   "display_name": "Python 3 (ipykernel)",
   "language": "python",
   "name": "python3"
  },
  "language_info": {
   "codemirror_mode": {
    "name": "ipython",
    "version": 3
   },
   "file_extension": ".py",
   "mimetype": "text/x-python",
   "name": "python",
   "nbconvert_exporter": "python",
   "pygments_lexer": "ipython3",
   "version": "3.9.7"
  }
 },
 "nbformat": 4,
 "nbformat_minor": 5
}
