{
 "cells": [
  {
   "cell_type": "raw",
   "id": "a126f2e1",
   "metadata": {},
   "source": [
    "Question:-1. What are escape characters, and how do you use them?\n",
    "\n",
    "Answer:-Escape characters represent characters in string values that would otherwise be difficult or impossible to type into           code."
   ]
  },
  {
   "cell_type": "raw",
   "id": "f9004528",
   "metadata": {},
   "source": [
    "Question:-2. What do the escape characters n and t stand for?\n",
    "\n",
    "Answer:- \\n is a newline; \\t is a tab."
   ]
  },
  {
   "cell_type": "raw",
   "id": "79ee4022",
   "metadata": {},
   "source": [
    "Question:-3. What is the way to include backslash characters in a string?\n",
    "\n",
    "Answer:- The \\\\ escape character will represent a backslash character."
   ]
  },
  {
   "cell_type": "raw",
   "id": "97f10f4d",
   "metadata": {},
   "source": [
    "Question:-4. The string \"Howl's Moving Castle\" is a correct value. Why isn't the single quote character in the\n",
    "word Howl's not escaped a problem?\n",
    "\n",
    "Answer:-The single quote in Howl's is fine because we’ve used double quotes to mark the beginning and end of the string."
   ]
  },
  {
   "cell_type": "raw",
   "id": "870ea266",
   "metadata": {},
   "source": [
    "Question:-5. How do you write a string of newlines if you don't want to use the n character?\n",
    "\n",
    "Answer:-Multiline strings allow you to use newlines in strings without the \\n escape character."
   ]
  },
  {
   "cell_type": "raw",
   "id": "f0fff864",
   "metadata": {},
   "source": [
    "Question:-6. What are the values of the given expressions?\n",
    "Hello,world!'[1]\n",
    "Hello,world!'[0:5]\n",
    "Hello,world!'[:5]\n",
    "Hello,world!'[3:]\n",
    "\n",
    "Answer:-The expressions evaluate to the following:\n",
    "\n",
    "'e'\n",
    "'Hello'\n",
    "'Hello'\n",
    "'lo world!"
   ]
  },
  {
   "cell_type": "raw",
   "id": "fc8d8d9b",
   "metadata": {},
   "source": [
    "Question:- 7. What are the values of the following expressions?\n",
    "'Hello'.upper()\n",
    "'Hello'.upper().isupper()\n",
    "'Hello'.upper().lower()\n",
    "\n",
    "Answer:-The expressions evaluate to the following:\n",
    "\n",
    "'HELLO'\n",
    "True\n",
    "'hello'"
   ]
  },
  {
   "cell_type": "raw",
   "id": "47a5ef15",
   "metadata": {},
   "source": [
    "Question:-8. What are the values of the following expressions?\n",
    "            'Remember, remember, the fifth of July.'.split()\n",
    "             '-'.join('There can only one.'.split())\n",
    "\n",
    "Answer:-The expressions evaluate to the following:\n",
    "\n",
    "        ['Remember,', 'remember,', 'the', 'fifth', 'of', 'November.']\n",
    "\n",
    "       'There-can-be-only-one.'"
   ]
  },
  {
   "cell_type": "raw",
   "id": "ba5e6ec0",
   "metadata": {},
   "source": [
    "Question:-9. What are the methods for right-justifying, left-justifying, and centering a string?\n",
    "\n",
    "Answer:- The rjust(), ljust(), and center() string methods, respectively."
   ]
  },
  {
   "cell_type": "raw",
   "id": "5585fd67",
   "metadata": {},
   "source": [
    "Question:-10. What is the best way to remove whitespace characters from the start or end?\n",
    "\n",
    "Answer:-The lstrip() and rstrip() methods remove whitespace from the left and right ends of a string, respectively."
   ]
  }
 ],
 "metadata": {
  "kernelspec": {
   "display_name": "Python 3 (ipykernel)",
   "language": "python",
   "name": "python3"
  },
  "language_info": {
   "codemirror_mode": {
    "name": "ipython",
    "version": 3
   },
   "file_extension": ".py",
   "mimetype": "text/x-python",
   "name": "python",
   "nbconvert_exporter": "python",
   "pygments_lexer": "ipython3",
   "version": "3.9.7"
  }
 },
 "nbformat": 4,
 "nbformat_minor": 5
}
