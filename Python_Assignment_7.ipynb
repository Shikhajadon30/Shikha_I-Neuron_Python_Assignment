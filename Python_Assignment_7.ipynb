{
 "cells": [
  {
   "cell_type": "raw",
   "id": "460474fa",
   "metadata": {},
   "source": [
    "Question:-1. What is the name of the feature responsible for generating Regex objects?\n",
    "\n",
    "Answer:-The re.compile() function returns Regex objects."
   ]
  },
  {
   "cell_type": "raw",
   "id": "4a6b475e",
   "metadata": {},
   "source": [
    "Question:-2. Why do raw strings often appear in Regex objects?\n",
    "\n",
    "Answer:- Raw strings are used so that backslashes do not have to be escaped."
   ]
  },
  {
   "cell_type": "raw",
   "id": "bdf89c58",
   "metadata": {},
   "source": [
    "Question:-3. What is the return value of the search() method?\n",
    "\n",
    "Answer:-The search() method returns Match objects."
   ]
  },
  {
   "cell_type": "raw",
   "id": "0961f864",
   "metadata": {},
   "source": [
    "Question:-4. From a Match item, how do you get the actual strings that match the pattern?\n",
    "\n",
    "Answer:-The group() method returns strings of the matched text."
   ]
  },
  {
   "cell_type": "raw",
   "id": "67f64591",
   "metadata": {},
   "source": [
    "Question:-5. In the regex which created from the r'(\\d\\d\\d)-(\\d\\d\\d-\\d\\d\\d\\d)', what does group zero cover?\n",
    "          Group 2? Group 1?\n",
    "\n",
    "Answer:- Group 0 is the entire match, group 1 covers the first set of parentheses, and group 2 covers the second set of                  parentheses."
   ]
  },
  {
   "cell_type": "raw",
   "id": "4297f9c2",
   "metadata": {},
   "source": [
    "Question:-6. In standard expression syntax, parentheses and intervals have distinct meanings. How can you tell\n",
    "             a regex that you want it to fit real parentheses and periods?\n",
    "\n",
    "Answer:-Periods and parentheses can be escaped with a backslash: \\., \\(, and \\)."
   ]
  },
  {
   "cell_type": "raw",
   "id": "45c83ca9",
   "metadata": {},
   "source": [
    "Question:-7. The findall() method returns a string list or a list of string tuples. What causes it to return one of\n",
    "the two options?\n",
    "\n",
    "Answer:-If the regex has no groups, a list of strings is returned. If the regex has groups, a list of tuples of strings is             returned."
   ]
  },
  {
   "cell_type": "raw",
   "id": "e48444b9",
   "metadata": {},
   "source": [
    "Question:- 8. In standard expressions, what does the | character mean?\n",
    "\n",
    "Answer:-The | character signifies matching “either, or” between two groups."
   ]
  },
  {
   "cell_type": "raw",
   "id": "8eef4483",
   "metadata": {},
   "source": [
    "Question:-9. In regular expressions, what does the character stand for?\n",
    "\n",
    "Answer:-The ? character can either mean “match zero or one of the preceding group” or be used to signify nongreedy matching."
   ]
  },
  {
   "cell_type": "raw",
   "id": "93195d65",
   "metadata": {},
   "source": [
    "Question:-10.In regular expressions, what is the difference between the + and * characters?\n",
    "\n",
    "Answer:-The + matches one or more. The * matches zero or more."
   ]
  },
  {
   "cell_type": "raw",
   "id": "c344baee",
   "metadata": {},
   "source": [
    "Question:-11. What is the difference between {4} and {4,5} in regular expression?\n",
    "\n",
    "Answer:- The {4} matches exactly four instances of the preceding group. The {4,5} matches between four and five instances."
   ]
  },
  {
   "cell_type": "raw",
   "id": "09d5ab11",
   "metadata": {},
   "source": [
    "Question:-12. What do you mean by the \\d, \\w, and \\s shorthand character classes signify in regular\n",
    "expressions?\n",
    "\n",
    "Answer:-The \\d, \\w, and \\s shorthand character classes match a single digit, word, or space character, respectively."
   ]
  },
  {
   "cell_type": "raw",
   "id": "8a830c97",
   "metadata": {},
   "source": [
    "Question:-13. What do means by \\D, \\W, and \\S shorthand character classes signify in regular expressions?\n",
    "\n",
    "Answer:-The \\D, \\W, and \\S shorthand character classes match a single character that is not a digit, word, or space character, respectively."
   ]
  },
  {
   "cell_type": "raw",
   "id": "1033b8c2",
   "metadata": {},
   "source": [
    "Question:-14. What is the difference between .*? and .*?\n",
    "\n",
    "Answer:-The .* performs a greedy match, and the .*? performs a nongreedy match."
   ]
  },
  {
   "cell_type": "raw",
   "id": "a036ba24",
   "metadata": {},
   "source": [
    "Question:-15. What is the syntax for matching both numbers and lowercase letters with a character class?\n",
    "\n",
    "Answer:-Either [0-9a-z] or [a-z0-9]"
   ]
  },
  {
   "cell_type": "raw",
   "id": "0f60f74e",
   "metadata": {},
   "source": [
    "Question:-16. What is the procedure for making a normal expression in regax case insensitive?\n",
    "\n",
    "Answer:-Passing re.I or re.IGNORECASE as the second argument to re.compile() will make the matching case insensitive."
   ]
  },
  {
   "cell_type": "raw",
   "id": "4325a441",
   "metadata": {},
   "source": [
    "Question:- 17. What does the . character normally match? What does it match if re.DOTALL is passed as 2nd\n",
    "               argument in re.compile()?\n",
    "\n",
    "Answer:- The . character normally matches any character except the newline character. If re.DOTALL is passed as the second                   argument to re.compile(), then the dot will also match newline characters."
   ]
  },
  {
   "cell_type": "raw",
   "id": "44c89504",
   "metadata": {},
   "source": [
    "Question:-18. If numReg = re.compile(r'\\d+';), what will numRegex.sub('X','11 drummers, 10 pipers, five rings, 4\n",
    "               hen') return?\n",
    "\n",
    "Answer:- 'X drummers, X pipers, five rings, X hens'"
   ]
  },
  {
   "cell_type": "raw",
   "id": "a9e6aa00",
   "metadata": {},
   "source": [
    "Question:-19. What does passing re.VERBOSE as the 2nd argument to re.compile() allow to do?\n",
    "\n",
    "Answer:-The re.VERBOSE argument allows you to add whitespace and comments to the string passed to re.compile()."
   ]
  },
  {
   "cell_type": "raw",
   "id": "cdb444a2",
   "metadata": {},
   "source": [
    "Question:-20. How would you write a regex that match a number with comma for every three digits? It must\n",
    "match the given following:\n",
    "'42'\n",
    "'1,234'\n",
    "'6,368,745'\n",
    "but not the following:\n",
    "'12,34,567' (which has only two digits between the commas)\n",
    "'1234' (which lacks commas)\n",
    "\n",
    "Answer:- re.compile(r'^\\d{1,3}(,\\d{3})*$') will create this regex, but other regex strings can produce a similar regular expression."
   ]
  },
  {
   "cell_type": "raw",
   "id": "0b5f1840",
   "metadata": {},
   "source": [
    "Question:-21. How would you write a regex that matches the full name of someone whose last name is\n",
    "Watanabe? You can assume that the first name that comes before it will always be one word that\n",
    "begins with a capital letter. The regex must match the following:\n",
    "'Haruto Watanabe'\n",
    "'Alice Watanabe'\n",
    "'RoboCop Watanabe'\n",
    "but not the following:\n",
    "'haruto Watanabe' (where the first name is not capitalized)\n",
    "'Mr. Watanabe' (where the preceding word has a nonletter character)\n",
    "'Watanabe' (which has no first name)\n",
    "'Haruto watanabe' (where Watanabe is not capitalized)\n",
    "\n",
    "Answer:- re.compile(r'[A-Z][a-z]*\\sNakamoto')"
   ]
  },
  {
   "cell_type": "raw",
   "id": "faeedceb",
   "metadata": {},
   "source": [
    "Question:-22. How would you write a regex that matches a sentence where the first word is either Alice, Bob,\n",
    "or Carol; the second word is either eats, pets, or throws; the third word is apples, cats, or baseballs;\n",
    "and the sentence ends with a period? This regex should be case-insensitive. It must match the\n",
    "following:\n",
    "'Alice eats apples.'\n",
    "'Bob pets cats.&#39;\n",
    "'Carol throws baseballs.'\n",
    "'Alice throws Apples.'\n",
    "'BOB EATS CATS.'\n",
    "but not the following:\n",
    "'RoboCop eats apples.'\n",
    "'ALICE THROWS FOOTBALLS.'\n",
    "'Carol eats 7 cats.'\n",
    "\n",
    "Answer:-re.compile(r'(Alice|Bob|Carol)\\s(eats|pets|throws)\\s(apples|cats|baseballs)\\.', re.IGNORECASE)"
   ]
  }
 ],
 "metadata": {
  "kernelspec": {
   "display_name": "Python 3 (ipykernel)",
   "language": "python",
   "name": "python3"
  },
  "language_info": {
   "codemirror_mode": {
    "name": "ipython",
    "version": 3
   },
   "file_extension": ".py",
   "mimetype": "text/x-python",
   "name": "python",
   "nbconvert_exporter": "python",
   "pygments_lexer": "ipython3",
   "version": "3.9.7"
  }
 },
 "nbformat": 4,
 "nbformat_minor": 5
}
