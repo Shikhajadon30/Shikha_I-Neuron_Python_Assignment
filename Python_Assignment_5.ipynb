{
 "cells": [
  {
   "cell_type": "raw",
   "id": "05156f10",
   "metadata": {},
   "source": [
    "Question:-1. What does an empty dictionary's code look like?\n",
    "\n",
    "Answer:- Two curly brackets: {}"
   ]
  },
  {
   "cell_type": "raw",
   "id": "a169d8e2",
   "metadata": {},
   "source": [
    "Question:-2. What is the value of a dictionary value with the key &#39;foo&#39; and the value 42?\n",
    "\n",
    "Answer:-{'foo': 42}"
   ]
  },
  {
   "cell_type": "raw",
   "id": "481b829f",
   "metadata": {},
   "source": [
    "Question:-3. What is the most significant distinction between a dictionary and a list?\n",
    "\n",
    "Answer:-The items stored in a dictionary are unordered, while the items in a list are ordered."
   ]
  },
  {
   "cell_type": "raw",
   "id": "dc9a18b3",
   "metadata": {},
   "source": [
    "Question:-4. What happens if you try to access spam['foo'] if spam is {'bar':100}?\n",
    "Answer:- KeyError error."
   ]
  },
  {
   "cell_type": "raw",
   "id": "70530607",
   "metadata": {},
   "source": [
    "Question:-5. If a dictionary is stored in spam, what is the difference between the expressions 'cat' in spam and\n",
    "             'cat' in spam.keys()?\n",
    "             \n",
    "Answer:-  There is no difference. The in operator checks whether a value exists as a key in the dictionary.           "
   ]
  },
  {
   "cell_type": "raw",
   "id": "cbdab2bb",
   "metadata": {},
   "source": [
    "Question:-6. If a dictionary is stored in spam, what is the difference between the expressions 'cat' in spam and\n",
    "             'cat' in spam.values()?\n",
    "\n",
    "Answer:-'cat' in spam checks whether there is a 'cat' key in the dictionary, while 'cat' in spam.values() checks whether there          is a value 'cat' for one of the keys in spam."
   ]
  },
  {
   "cell_type": "raw",
   "id": "b6e9e4fb",
   "metadata": {},
   "source": [
    "Question:- 7. What is a shortcut for the following code?\n",
    "if 'color' not in spam:\n",
    "spam['color']='black';\n",
    "\n",
    "Answer:- spam.setdefault('color', 'black')"
   ]
  },
  {
   "cell_type": "raw",
   "id": "9ebb9f91",
   "metadata": {},
   "source": [
    "Question:-8. How do you \"pretty print\" dictionary values using which module and function?\n",
    "\n",
    "Answer:-  pprint.pprint()"
   ]
  }
 ],
 "metadata": {
  "kernelspec": {
   "display_name": "Python 3 (ipykernel)",
   "language": "python",
   "name": "python3"
  },
  "language_info": {
   "codemirror_mode": {
    "name": "ipython",
    "version": 3
   },
   "file_extension": ".py",
   "mimetype": "text/x-python",
   "name": "python",
   "nbconvert_exporter": "python",
   "pygments_lexer": "ipython3",
   "version": "3.9.7"
  }
 },
 "nbformat": 4,
 "nbformat_minor": 5
}
