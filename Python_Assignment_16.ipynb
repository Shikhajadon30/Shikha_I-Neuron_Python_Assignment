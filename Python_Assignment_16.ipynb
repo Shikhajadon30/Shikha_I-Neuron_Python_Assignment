{
 "cells": [
  {
   "cell_type": "raw",
   "id": "08235566",
   "metadata": {},
   "source": [
    "Question:-1 Create a list called years_list, starting with the year of your birth, and each year thereafter until\n",
    "the year of your fifth birthday. For example, if you were born in 1980. the list would be years_list =\n",
    "[1980, 1981, 1982, 1983, 1984, 1985].\n",
    "\n",
    "Answer:-\n",
    "years_list = [i for i in range(1997,1997+6)]\n",
    "years_list\n",
    "\n",
    "Output:- [1997, 1998, 1999, 2000, 2001, 2002]"
   ]
  },
  {
   "cell_type": "raw",
   "id": "f13fe834",
   "metadata": {},
   "source": [
    "Question:- 2. In which year in years_list was your third birthday? Remember, you were 0 years of age for your\n",
    "first year.\n",
    "\n",
    "Answer:\n",
    "    years_list[3]\n",
    "    \n",
    "Output:- 2000"
   ]
  },
  {
   "cell_type": "raw",
   "id": "061a7c7a",
   "metadata": {},
   "source": [
    "Question:- 3.In the years list, which year were you the oldest?\n",
    "\n",
    "Answer:- \n",
    "   max(years_list)\n",
    "   \n",
    "Output:-2002"
   ]
  },
  {
   "cell_type": "raw",
   "id": "7af6fd3f",
   "metadata": {},
   "source": [
    "Question:- 4. Make a list called things with these three strings as elements: &quot;mozzarella&quot;, &quot;cinderella&quot;,\n",
    "&quot;salmonella&quot;.\n",
    "\n",
    "Answer:- \n",
    "    things = list(['mozzarella', 'cinderella','salmonella'])\n",
    "    things\n",
    "    \n",
    "Output:- ['mozzarella', 'cinderella','salmonella']"
   ]
  },
  {
   "cell_type": "raw",
   "id": "94ee84b7",
   "metadata": {},
   "source": [
    "Question:- 5. Capitalize the element in things that refers to a person and then print the list. Did it change the\n",
    "element in the list?\n",
    "\n",
    "Answer:-\n",
    "for i in things:\n",
    "   print(i.capitalize())\n",
    "things\n",
    "# No, Capitalize() will not update the list original values.\n",
    "\n",
    "Output:- \n",
    "Mozzarella\n",
    "Cinderella\n",
    "Salmonella\n",
    "['mozzarella', 'cinderella', 'salmonella']"
   ]
  },
  {
   "cell_type": "raw",
   "id": "b0b0f168",
   "metadata": {},
   "source": [
    "Question:-6. Make a surprise list with the elements &quot;Groucho,&quot; &quot;Chico,&quot; and &quot;Harpo.&quot;\n",
    "\n",
    "Answer:-\n",
    "surprise_list = [\"Groucho\", \"Chico\", \"Harpo\"]\n",
    "surprise_list\n",
    "\n",
    "Output:- ['Groucho', 'Chico', 'Harpo']"
   ]
  },
  {
   "cell_type": "raw",
   "id": "94160382",
   "metadata": {},
   "source": [
    "Question:-7. Lowercase the last element of the surprise list, reverse it, and then capitalize it.\n",
    "    \n",
    "Answer:-\n",
    "surprise_list[-1].lower()\n",
    "\n",
    "Output:- 'harpo'"
   ]
  },
  {
   "cell_type": "raw",
   "id": "672937c3",
   "metadata": {},
   "source": [
    "Question:-8. Make an English-to-French dictionary called e2f and print it. Here are your starter words: dog is\n",
    "chien, cat is chat, and walrus is morse.\n",
    "\n",
    "Answer:-\n",
    "e2f = {'dog':'chien','cat':'chat','walrus':'morse'}"
   ]
  },
  {
   "cell_type": "raw",
   "id": "f53590ce",
   "metadata": {},
   "source": [
    "Question:-9. Write the French word for walrus in your three-word dictionary e2f.\n",
    "\n",
    "Answer:-\n",
    "e2f['walrus']"
   ]
  },
  {
   "cell_type": "raw",
   "id": "d79ad2e2",
   "metadata": {},
   "source": [
    "Question:- 10. Make a French-to-English dictionary called f2e from e2f. Use the items method.\n",
    "\n",
    "Answer:-\n",
    "f2e = dict((key,value) for value,key in e2f.items())\n",
    "f2e\n",
    "\n",
    "Output:- {'chat': 'cat', 'chien': 'dog', 'morse': 'walrus'}"
   ]
  },
  {
   "cell_type": "raw",
   "id": "5801ec97",
   "metadata": {},
   "source": [
    "Questin:-11. Print the English version of the French word chien using f2e.\n",
    "\n",
    "Answer:-\n",
    "f2e['chien']\n",
    "'dog'"
   ]
  },
  {
   "cell_type": "raw",
   "id": "c5ca7cb3",
   "metadata": {},
   "source": [
    "Question:-12. Make and print a set of English words from the keys in e2f.\n",
    "\n",
    "Answer:-e2f.keys()\n",
    "\n",
    "Output:- dict_keys(['dog', 'cat', 'walrus'])\n"
   ]
  },
  {
   "cell_type": "raw",
   "id": "3f937227",
   "metadata": {},
   "source": [
    "Question:-13. Make a multilevel dictionary called life. Use these strings for the topmost keys: 'animals', 'plants',\n",
    "and 'other'. Make the 'animals' key refer to another dictionary with the keys &#39;cats&#39;, 'octopi', and\n",
    "'emus'. Make the 'cats' key refer to a list of strings with the values 'Henri', 'Grumpy', and 'Lucy'.\n",
    "Make all the other keys refer to empty dictionaries.\n",
    "\n",
    "Answer:-\n",
    "life ={'animals':{'cat':['Henri', 'Grumpy', 'Lucy'], 'octopi':'', 'emus':''},\n",
    "       'plants' :'',\n",
    "       'other' :'' }\n",
    "life\n",
    "\n",
    "Output:- \n",
    "{'animals': {'cat': ['Henri', 'Grumpy', 'Lucy'], 'emus': '', 'octopi': ''},\n",
    " 'other': '',\n",
    " 'plants': ''}"
   ]
  },
  {
   "cell_type": "raw",
   "id": "76becdf1",
   "metadata": {},
   "source": [
    "Question:-14. Print the top-level keys of life.\n",
    "\n",
    "Answer:-life.keys()\n",
    "\n",
    "Output:- dict_keys(['animals', 'plants', 'other'])"
   ]
  },
  {
   "cell_type": "raw",
   "id": "1e795672",
   "metadata": {},
   "source": [
    "Question:- 15. Print the keys for life['animals'].\n",
    "\n",
    "Answer:-\n",
    "life['animals'].keys()\n",
    "\n",
    "Output:- dict_keys(['cat', 'octopi', 'emus'])"
   ]
  },
  {
   "cell_type": "raw",
   "id": "8ca8ea2a",
   "metadata": {},
   "source": [
    "Question:- 16. Print the values for life['animals']['cats']\n",
    "\n",
    "Answer:-\n",
    "life['animals']['cat']\n",
    "\n",
    "Output:- ['Henri', 'Grumpy', 'Lucy']"
   ]
  }
 ],
 "metadata": {
  "kernelspec": {
   "display_name": "Python 3 (ipykernel)",
   "language": "python",
   "name": "python3"
  },
  "language_info": {
   "codemirror_mode": {
    "name": "ipython",
    "version": 3
   },
   "file_extension": ".py",
   "mimetype": "text/x-python",
   "name": "python",
   "nbconvert_exporter": "python",
   "pygments_lexer": "ipython3",
   "version": "3.9.7"
  }
 },
 "nbformat": 4,
 "nbformat_minor": 5
}
