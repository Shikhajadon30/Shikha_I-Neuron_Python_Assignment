{
 "cells": [
  {
   "cell_type": "raw",
   "id": "32906697",
   "metadata": {},
   "source": [
    "Question:-1.What are the two values of the Boolean data type? How do you write them?\n",
    "\n",
    "Answer:- True and False, using capital T and F, with the rest of the word in lowercase."
   ]
  },
  {
   "cell_type": "raw",
   "id": "587135c3",
   "metadata": {},
   "source": [
    "Question:-2. What are the three different types of Boolean operators?\n",
    "\n",
    "Answer:- and, or, and not."
   ]
  },
  {
   "cell_type": "raw",
   "id": "27b5e317",
   "metadata": {},
   "source": [
    "Question:- 4. What are the values of the following expressions?\n",
    "(5>4)and(3==5)\n",
    "not(5>4)\n",
    "(5>4)or(3==5)\n",
    "not((5>4)or(3==5))\n",
    "(True and True)and(True==False)\n",
    "(not False)or(not True)\n",
    "\n",
    "Answer:- (5>4)and(3==5) ---------- False\n",
    "not(5>4) ------------------------- False\n",
    "(5>4)or(3==5) -------------------- True\n",
    "not((5>4)or(3==5))---------------- False\n",
    "(True and True)and(True==False)--- False\n",
    "(not False)or(not True)----------- True"
   ]
  },
  {
   "cell_type": "raw",
   "id": "a215b30c",
   "metadata": {},
   "source": [
    "Question:- 5. What are the six comparison operators?\n",
    "    \n",
    "Answer:- ==, !=, <, >, <=, and >=.    "
   ]
  },
  {
   "cell_type": "raw",
   "id": "b5364b74",
   "metadata": {},
   "source": [
    "Question:- 6. How do you tell the difference between the equal to and assignment operators? Describe a\n",
    "condition and when you would use one.\n",
    "\n",
    "Answer:- == isthe equal to operator that compares two values and evaluates to a Boolean, while = is the assignment operator that stores a value in a variable.\n",
    "\n",
    "Condition:- A condition is an expression used in a flow control statement that evaluates to a Boolean value."
   ]
  },
  {
   "cell_type": "raw",
   "id": "c374d5e7",
   "metadata": {},
   "source": [
    "Question:-7. Identify the three blocks in this code:\n",
    "spam = 0\n",
    "if spam == 10:\n",
    "print('eggs')\n",
    "if spam > 5:\n",
    "print('bacon')\n",
    "else:\n",
    "print('ham')\n",
    "print('spam')\n",
    "print('spam')\n",
    "\n",
    "Answer:- The three blocks are everything inside the if statement and the lines print('bacon') and print('ham').\n",
    "\n",
    "print('eggs')\n",
    "if spam > 5:\n",
    "print('bacon')\n",
    "else:\n",
    "print('ham')\n",
    "print('spam')"
   ]
  },
  {
   "cell_type": "raw",
   "id": "b9c7fe5b",
   "metadata": {},
   "source": [
    "Question:- 8. Write code that prints Hello if 1 is stored in spam, prints Howdy if 2 is stored in spam, and prints\n",
    "Greetings! if anything else is stored in spam.\n",
    "\n",
    "Answer:- \n",
    "if spam == 1:\n",
    "print('Hello')\n",
    "elif spam == 2:\n",
    "print('Howdy')\n",
    "else:\n",
    "print('Greetings!')"
   ]
  }
 ],
 "metadata": {
  "kernelspec": {
   "display_name": "Python 3 (ipykernel)",
   "language": "python",
   "name": "python3"
  },
  "language_info": {
   "codemirror_mode": {
    "name": "ipython",
    "version": 3
   },
   "file_extension": ".py",
   "mimetype": "text/x-python",
   "name": "python",
   "nbconvert_exporter": "python",
   "pygments_lexer": "ipython3",
   "version": "3.9.7"
  }
 },
 "nbformat": 4,
 "nbformat_minor": 5
}
