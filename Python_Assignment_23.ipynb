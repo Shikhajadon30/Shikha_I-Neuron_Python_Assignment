{
 "cells": [
  {
   "cell_type": "raw",
   "id": "a117c7ca",
   "metadata": {},
   "source": [
    "Question:- 1. What is the result of the code, and why?\n",
    "\n",
    "def func(a, b=6, c=8): \n",
    "    print(a, b, c)\n",
    "func(1, 2)\n",
    "\n",
    "Answer:- The line func() takes two values, that is 1 and 2 respectively, but the func() is defined to take 3 values, as in func() we pass only two values, the third value comes from the default value, that is c = 8.\n",
    "    \n",
    "    \n",
    "Output:- 1 2 8"
   ]
  },
  {
   "cell_type": "raw",
   "id": "b17f5507",
   "metadata": {},
   "source": [
    "Question:- 2. What is the result of this code, and why?\n",
    "\n",
    "def func(a, b, c=5):\n",
    "    print(a, b, c)\n",
    "func(1, c=3, b=2)\n",
    "\n",
    "Answer:-The line func() takes three values, that is 1 , c= 3 snd b = 2 respectively,the func() is defined to take 3 values, as in func() we pass othree values, the default values gets overwritten, and we get the newly passed values.\n",
    "\n",
    "Output:-  1 2 3\n"
   ]
  },
  {
   "cell_type": "raw",
   "id": "aeabeb02",
   "metadata": {},
   "source": [
    "Question:-3. How about this code: what is its result, and why?\n",
    "\n",
    "def func(a, *pargs):\n",
    "    print(a, pargs)\n",
    "func(1, 2, 3)\n",
    "\n",
    "Answer:- The special syntax pargs in function definitions in python is used to pass a variable number of arguments to a function. It is used to pass a non-key worded, variable-length argument list. The syntax is to use the symbol to take in a variable number of arguments; by convention, it is often used with the word args. What pargs allows you to do is take in more arguments than the number of formal arguments that you previously defined. With pargs, any number of extra arguments can be tacked on to your current formal parameters (including zero extra arguments).\n",
    "\n",
    "Output:- 1 (2, 3)"
   ]
  },
  {
   "cell_type": "raw",
   "id": "11f8badf",
   "metadata": {},
   "source": [
    "Question:-4. What does this code print, and why?\n",
    "\n",
    "def func(a, **kargs):\n",
    "    print(a, kargs)\n",
    "func(a=1, c=3, b=2)\n",
    "\n",
    "Answer:- The special syntax **kargs in function definitions in python is used to pass a keyworded, variable-length argument list. We use the name kwargs with the double star. The reason is because the double star allows us to pass through keyword arguments (and any number of them).\n",
    "\n",
    "Output:- 1 {'c': 3, 'b': 2}\n"
   ]
  },
  {
   "cell_type": "raw",
   "id": "99f413c2",
   "metadata": {},
   "source": [
    "Question:- 5. What gets printed by this, and explain?\n",
    "    \n",
    "def func(a, b, c=8, d=5): \n",
    "    print(a, b, c, d)\n",
    "func(1, *(5, 6))\n",
    "\n",
    "Output:-   1 5 6 5"
   ]
  },
  {
   "cell_type": "raw",
   "id": "1185b7ba",
   "metadata": {},
   "source": [
    "Question:-6. what is the result of this, and explain?\n",
    "\n",
    "def func(a, b, c): \n",
    "    a = 2; b[0] = 'x'; c['a'] = 'y'\n",
    "l=1; m=[1]; n={'a':0}\n",
    "func(l, m, n)\n",
    "\n",
    "Output:- No Output"
   ]
  }
 ],
 "metadata": {
  "kernelspec": {
   "display_name": "Python 3 (ipykernel)",
   "language": "python",
   "name": "python3"
  },
  "language_info": {
   "codemirror_mode": {
    "name": "ipython",
    "version": 3
   },
   "file_extension": ".py",
   "mimetype": "text/x-python",
   "name": "python",
   "nbconvert_exporter": "python",
   "pygments_lexer": "ipython3",
   "version": "3.9.7"
  }
 },
 "nbformat": 4,
 "nbformat_minor": 5
}
