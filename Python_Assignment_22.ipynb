{
 "cells": [
  {
   "cell_type": "raw",
   "id": "e3f76bec",
   "metadata": {},
   "source": [
    "Question:- 1. What is the result of the code, and explain?\n",
    "\n",
    "Answer:-\n",
    "X = 'iNeuron'\n",
    "def func():\n",
    "    print (X)\n",
    "func()\n",
    "\n",
    "Output:- iNeuron\n",
    "    \n",
    "#The line, func() Call the function we defined which prints the value of X."
   ]
  },
  {
   "cell_type": "raw",
   "id": "d87f46d7",
   "metadata": {},
   "source": [
    "Question:-2.What is the result of the code, and explain?\n",
    "\n",
    "X = 'iNeuron'\n",
    "def func():\n",
    "    X = 'NI!'\n",
    "func()\n",
    "print(X)\n",
    "\n",
    "Output:- iNeuron\n",
    "\n",
    "Explaination:- The line, func() Call the function we defined, with \"NI\" as the value of X inside the funtion, but doesn't prints it, as there is no print statement inside the function.\n",
    "\n",
    "The line, print(X), prints the value of X, which is \"iNeuron\", which is outside func()."
   ]
  },
  {
   "cell_type": "raw",
   "id": "045ed562",
   "metadata": {},
   "source": [
    "Question:- 3.What does this code print, and why?\n",
    "\n",
    "X = 'iNeuron'\n",
    "def func():\n",
    "    X = 'NI!'\n",
    "    print (X)\n",
    "func()\n",
    "print(X)\n",
    "\n",
    "Answer:-\n",
    "NI!\n",
    "iNeuron"
   ]
  },
  {
   "cell_type": "raw",
   "id": "cc2884cf",
   "metadata": {},
   "source": [
    "Question:-4. What output does this code produce? Why?\n",
    "\n",
    "X = 'iNeuron'\n",
    "def func():\n",
    "    global X\n",
    "    X = \"NI\"\n",
    "func()\n",
    "print(X)\n",
    "\n",
    "Answer:- NI\n",
    "\n",
    "Explaination:- The line, func() Call the function we defined, with \"NI\" as the value of X inside the funtion, but doesn't prints it, as there is no print statement inside the function, and we have used global keyword, which means, global keyword allows us to modify the variable, that is \"X\", outside of the current function.\n",
    "\n",
    "The line, print(X), prints the value of X, which is now \"NI\", as we used global keyword inside the function."
   ]
  },
  {
   "cell_type": "raw",
   "id": "b7f1a5a3",
   "metadata": {},
   "source": [
    "Question:-5. What about this code—what’s the output, and why?\n",
    "    \n",
    "X = 'iNeuron'\n",
    "def func():\n",
    "    X = \"NI\"\n",
    "def nested():\n",
    "    print(X)\n",
    "nested()\n",
    "func()\n",
    "X\n",
    "\n",
    "Output:- \n",
    "iNeuron\n",
    "'iNeuron'"
   ]
  },
  {
   "cell_type": "raw",
   "id": "d0e016fc",
   "metadata": {},
   "source": [
    "Question:-6. How about this code: what is its output in Python 3, and explain?\n",
    "\n",
    "def func():\n",
    "    X = 'NI'\n",
    "    def nested():\n",
    "        nonlocal X\n",
    "        X = 'Spam'\n",
    "    nested()\n",
    "print(X)\n",
    "\n",
    "func()\n",
    "print(func())\n",
    "\n",
    "Output:-\n",
    "iNeuron\n",
    "None"
   ]
  }
 ],
 "metadata": {
  "kernelspec": {
   "display_name": "Python 3 (ipykernel)",
   "language": "python",
   "name": "python3"
  },
  "language_info": {
   "codemirror_mode": {
    "name": "ipython",
    "version": 3
   },
   "file_extension": ".py",
   "mimetype": "text/x-python",
   "name": "python",
   "nbconvert_exporter": "python",
   "pygments_lexer": "ipython3",
   "version": "3.9.7"
  }
 },
 "nbformat": 4,
 "nbformat_minor": 5
}
