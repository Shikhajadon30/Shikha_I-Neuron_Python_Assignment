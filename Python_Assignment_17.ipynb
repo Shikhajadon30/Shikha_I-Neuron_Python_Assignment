{
 "cells": [
  {
   "cell_type": "raw",
   "id": "54d055b2",
   "metadata": {},
   "source": [
    "Question:- Assign the value 7 to the variable guess_me. Then, write the conditional tests (if, else, and elif) to  print the string ‘too low’ if guess_me is less than 7, ‘too high’ if greater than 7, and ‘just right’ if equal to 7.\n",
    "\n",
    "Answer:-\n",
    "def print_header(section: str):\n",
    "    print('--------------------------')\n",
    "    print('Start of section ' + section)\n",
    "\n",
    "\n",
    "def print_footer(section: str):\n",
    "    print('End of section ' + section)\n",
    "    \n",
    "section = '17'\n",
    "print_header(section)\n",
    "guess_me = 7\n",
    "if guess_me < 7:\n",
    "    print(\"too low\")\n",
    "elif guess_me > 7:\n",
    "    print(\"too high\")\n",
    "else:\n",
    "    print(\"just right\")\n",
    "print_footer(section)"
   ]
  },
  {
   "cell_type": "raw",
   "id": "5181589f",
   "metadata": {},
   "source": [
    "Question:- 2. Assign the value 7 to the variable guess_me and the value 1 to the variable start. Write a while\n",
    "loop that compares start with guess_me. Print too low if start is less than guess me. If start equals\n",
    "guess_me, print 'found it!' and exit the loop. If start is greater than guess_me, print 'oops' and exit\n",
    "the loop. Increment start at the end of the loop.\n",
    "\n",
    "Answer:-\n",
    "section = '17'\n",
    "print_header(section)\n",
    "guess_me = 7\n",
    "start = 1\n",
    "\n",
    "while True:\n",
    "    if start < guess_me:\n",
    "        print('too low')\n",
    "    elif start == guess_me:\n",
    "        print('found it!')\n",
    "        break\n",
    "    else:\n",
    "        print('oops')\n",
    "        break\n",
    "    start += 1\n",
    "print_footer(section)\n"
   ]
  },
  {
   "cell_type": "raw",
   "id": "f4923c5a",
   "metadata": {},
   "source": [
    "Question:-3. Print the following values of the list [3, 2, 1, 0] using a for loop.\n",
    "\n",
    "Answer:-\n",
    "print_header(section)\n",
    "numbers = [3, 2, 1, 0]\n",
    "for num in numbers:\n",
    "    print(num)\n",
    "print_footer(section)"
   ]
  },
  {
   "cell_type": "raw",
   "id": "87c157fd",
   "metadata": {},
   "source": [
    "Question:- 4. Use a list comprehension to make a list of the even numbers in range(10)\n",
    "\n",
    "Answer:-\n",
    "print_header(section)\n",
    "even_numbers = [num for num in range(10) if num % 2 == 0]\n",
    "print(even_numbers)\n",
    "print_footer(section)\n"
   ]
  },
  {
   "cell_type": "raw",
   "id": "786bf05f",
   "metadata": {},
   "source": [
    "Question:-5. Use a dictionary comprehension to create the dictionary squares. Use range(10) to return the\n",
    "keys, and use the square of each key as its value.\n",
    "\n",
    "Answer:-\n",
    "print_header(section)\n",
    "limit = 10\n",
    "squares = {num: num * num for num in range(limit)}\n",
    "print(squares)\n",
    "print_footer(section)\n"
   ]
  },
  {
   "cell_type": "raw",
   "id": "05e17bde",
   "metadata": {},
   "source": [
    "Question:- 6. Construct the set odd from the odd numbers in the range using a set comprehension (10).\n",
    "\n",
    "Answer:-\n",
    "print_header(section)\n",
    "limit = 10\n",
    "odd = {num for num in range(limit) if num % 2 == 1}\n",
    "print(odd)\n",
    "print_footer(section)\n"
   ]
  },
  {
   "cell_type": "raw",
   "id": "eeb30671",
   "metadata": {},
   "source": [
    "Question:-7. Use a generator comprehension to return the string 'Got' and a number for the numbers in\n",
    "range(10). Iterate through this by using a for loop.\n",
    "\n",
    "Answer:-\n",
    "print_header(section)\n",
    "limit = 10\n",
    "string_generator = ('Got ' + str(num) for num in range(limit))\n",
    "for item in string_generator:\n",
    "    print(item)\n",
    "print_footer(section)\n"
   ]
  },
  {
   "cell_type": "raw",
   "id": "564e7fa2",
   "metadata": {},
   "source": [
    "Question:-8. Define a function called good that returns the list ['Harry', 'Ron', 'Hermione'].\n",
    "\n",
    "Answer:-\n",
    "print_header(section)\n",
    "\n",
    "\n",
    "def good():\n",
    "    return ['Harry', 'Ron', 'Hermione']\n",
    "\n",
    "\n",
    "print(good())\n",
    "print_footer(section)"
   ]
  },
  {
   "cell_type": "raw",
   "id": "1bac0c0c",
   "metadata": {},
   "source": [
    "Question:- 9. Define a generator function called get_odds that returns the odd numbers from range(10). Use a\n",
    "for loop to find and print the third value returned.\n",
    "\n",
    "Answer:-\n",
    "print_header(section)\n",
    "limit = 10\n",
    "get_odds = (num for num in range(limit) if not num % 2 == 0)\n",
    "count = 0\n",
    "for num in get_odds:\n",
    "    if count == 2:\n",
    "        print(num)\n",
    "        break\n",
    "    count += 1\n",
    "print_footer(section)"
   ]
  },
  {
   "cell_type": "raw",
   "id": "63d1d955",
   "metadata": {},
   "source": [
    "Question:-10. Define an exception called OopsException. Raise this exception to see what happens. Then write\n",
    "the code to catch this exception and print 'Caught an oops'.\n",
    "\n",
    "Answer:-\n",
    "print_header(section)\n",
    "\n",
    "\n",
    "class OopsException(Exception):\n",
    "    pass\n",
    "\n",
    "\n",
    "def with_exception(a):\n",
    "    if a < 0:\n",
    "        raise OopsException(a)\n",
    "\n",
    "\n",
    "try:\n",
    "    with_exception(-1)\n",
    "except OopsException as err:\n",
    "    print('Caught an oops')\n",
    "\n",
    "print_footer(section)\n"
   ]
  },
  {
   "cell_type": "raw",
   "id": "b8827fd3",
   "metadata": {},
   "source": [
    "Question:-11. Use zip() to make a dictionary called movies that pairs these lists: titles = ['Creature of Habit',\n",
    "'Crewel Fate'] and plots = ['A nun turns into a monster', 'A haunted yarn shop'].\n",
    "\n",
    "Answer:-\n",
    "titles = ['Creature of Habit', 'Crewel Fate']\n",
    "plots = ['A nun turns into a monster', 'A haunted yarn shop']\n",
    "\n",
    "movies = {}\n",
    "for title, plot in zip(titles, plots):\n",
    "    movies[title] = plot\n",
    "# or movies = dict(zip(titles, plots))\n",
    "print(movies)"
   ]
  }
 ],
 "metadata": {
  "kernelspec": {
   "display_name": "Python 3 (ipykernel)",
   "language": "python",
   "name": "python3"
  },
  "language_info": {
   "codemirror_mode": {
    "name": "ipython",
    "version": 3
   },
   "file_extension": ".py",
   "mimetype": "text/x-python",
   "name": "python",
   "nbconvert_exporter": "python",
   "pygments_lexer": "ipython3",
   "version": "3.9.7"
  }
 },
 "nbformat": 4,
 "nbformat_minor": 5
}
