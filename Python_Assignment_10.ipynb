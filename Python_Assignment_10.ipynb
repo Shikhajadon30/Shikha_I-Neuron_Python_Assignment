{
 "cells": [
  {
   "cell_type": "raw",
   "id": "025bcc2e",
   "metadata": {},
   "source": [
    "Question:-1. How do you distinguish between shutil.copy() and shutil.copytree()?\n",
    "\n",
    "Answer:- The shutil.copy() function will copy a single file, while shutil.copytree() will copy an entire folder, along with all          its contents."
   ]
  },
  {
   "cell_type": "raw",
   "id": "23e1c05e",
   "metadata": {},
   "source": [
    "Question:- 2. What function is used to rename files??\n",
    "\n",
    "Answer:- The shutil.move() function is used for renaming files, as well as moving them."
   ]
  },
  {
   "cell_type": "raw",
   "id": "26dcaee3",
   "metadata": {},
   "source": [
    "Question:-3. What is the difference between the delete functions in the send2trash and shutil modules?\n",
    "\n",
    "Answer:- The send2trash functions will move a file or folder to the recycle bin, while shutil functions will permanently delete          files and folders."
   ]
  },
  {
   "cell_type": "raw",
   "id": "6ee93775",
   "metadata": {},
   "source": [
    "Question:-4.ZipFile objects have a close() method just like File objects’ close() method. What ZipFile method is\n",
    "            equivalent to File objects’ open() method?\n",
    "\n",
    "Answer:-The zipfile.ZipFile() function is equivalent to the open() function; the first argument is the filename, and the second         argument is the mode to open the ZIP file in (read, write, or append)."
   ]
  },
  {
   "cell_type": "raw",
   "id": "8b384961",
   "metadata": {},
   "source": [
    "Question:- 5. Create a programme that searches a folder tree for files with a certain file extension (such as .pdf\n",
    "              or .jpg). Copy these files from whatever location they are in to a new folder.\n",
    "        \n",
    "Answer:- \n",
    "# Write a program that walks through a folder tree \n",
    "# and searches for files with a certain file extension (such as .pdf or .jpg).\n",
    "# Copy these files from whatever location they are in to a new folder.\n",
    "\n",
    "import os, shutil\n",
    "\n",
    "def selectiveCopy(folder, extensions, destFolder):\n",
    "\tfolder = os.path.abspath(folder)\n",
    "\tdestFolder = os.path.abspath(destFolder)\n",
    "\tprint('Looking in', folder, 'for files with extensions of', ', '.join(extensions))\n",
    "\tfor foldername, subfolders, filenames in os.walk(folder):\n",
    "\t\tfor filename in filenames:\n",
    "\t\t\tname, extension = os.path.splitext(filename)\n",
    "\t\t\tif extension in extensions:\n",
    "\t\t\t\tfileAbsPath = foldername + os.path.sep + filename\n",
    "\t\t\t\tprint('Coping', fileAbsPath, 'to', destFolder)\n",
    "\t\t\t\tshutil.copy(fileAbsPath, destFolder)\n",
    "\n",
    "extensions = ['.php', '.py']\n",
    "folder = 'randomFolder'\n",
    "destFolder = 'selectiveFolder'\n",
    "selectiveCopy(folder, extensions, destFolder)        "
   ]
  }
 ],
 "metadata": {
  "kernelspec": {
   "display_name": "Python 3 (ipykernel)",
   "language": "python",
   "name": "python3"
  },
  "language_info": {
   "codemirror_mode": {
    "name": "ipython",
    "version": 3
   },
   "file_extension": ".py",
   "mimetype": "text/x-python",
   "name": "python",
   "nbconvert_exporter": "python",
   "pygments_lexer": "ipython3",
   "version": "3.9.7"
  }
 },
 "nbformat": 4,
 "nbformat_minor": 5
}
