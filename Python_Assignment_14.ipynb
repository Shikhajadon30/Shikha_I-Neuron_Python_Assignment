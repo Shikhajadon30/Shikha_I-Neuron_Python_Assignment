{
 "cells": [
  {
   "cell_type": "raw",
   "id": "b62c9555",
   "metadata": {},
   "source": [
    "Question:- 1. What does RGBA stand\n",
    "\n",
    "Answer:- An RGBA value is a tuple of 4 integers, each ranging from 0 to 255. The four integers correspond to the amount of red,          green, blue, and alpha (transparency) in the color."
   ]
  },
  {
   "cell_type": "raw",
   "id": "937121f7",
   "metadata": {},
   "source": [
    "Question:-2. From the Pillow module, how do you get the RGBA value of any images?\n",
    "\n",
    "Answer:-A function call to ImageColor.getcolor('CornflowerBlue', 'RGBA') will return (100, 149, 237, 255), the RGBA value for           that color."
   ]
  },
  {
   "cell_type": "raw",
   "id": "da310208",
   "metadata": {},
   "source": [
    "Question:-3. What is a box tuple, and how does it work?\n",
    "\n",
    "Answer:-A box tuple is a tuple value of four integers: the left edge x-coordinate, the top edge y-coordinate, the width, and           the height, respectively."
   ]
  },
  {
   "cell_type": "raw",
   "id": "fed91100",
   "metadata": {},
   "source": [
    "Question:-4. Use your image and load in notebook then, How can you find out the width and height of an\n",
    "         Image object?\n",
    "\n",
    "Answer:-Image.open('zophie.png')\n",
    "        imageObj.size is a tuple of two integers, the width and the height."
   ]
  },
  {
   "cell_type": "raw",
   "id": "799ae919",
   "metadata": {},
   "source": [
    "Question:-5. What method would you call to get Image object for a 100×100 image, excluding the lower-left\n",
    "             quarter of it?\n",
    "\n",
    "Answer:- imageObj.crop((0, 50, 50, 50)). Notice that you are passing a box tuple to crop(), not four separate integer                    arguments."
   ]
  },
  {
   "cell_type": "raw",
   "id": "c3770342",
   "metadata": {},
   "source": [
    "Question:-6. After making changes to an Image object, how could you save it as an image.\n",
    "\n",
    "Answer:- the imageObj.save('new_filename.png') method of the Image object."
   ]
  },
  {
   "cell_type": "raw",
   "id": "edcca550",
   "metadata": {},
   "source": [
    "Question:-7. What module contains Pillow’s shape-drawing code?\n",
    "\n",
    "Answer:- The ImageDraw module contains code to draw on images."
   ]
  },
  {
   "cell_type": "raw",
   "id": "4c7c328a",
   "metadata": {},
   "source": [
    "Question:-8. Image objects do not have drawing methods. What kind of object does? How do you get this kind\n",
    "of object?\n",
    "\n",
    "Answer:-ImageDraw objects have shape-drawing methods such as point(), line(), or rectangle(). They are returned by passing the         Image object to the ImageDraw.Draw() function"
   ]
  }
 ],
 "metadata": {
  "kernelspec": {
   "display_name": "Python 3 (ipykernel)",
   "language": "python",
   "name": "python3"
  },
  "language_info": {
   "codemirror_mode": {
    "name": "ipython",
    "version": 3
   },
   "file_extension": ".py",
   "mimetype": "text/x-python",
   "name": "python",
   "nbconvert_exporter": "python",
   "pygments_lexer": "ipython3",
   "version": "3.9.7"
  }
 },
 "nbformat": 4,
 "nbformat_minor": 5
}
