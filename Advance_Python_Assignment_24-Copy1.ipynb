{
 "cells": [
  {
   "cell_type": "raw",
   "id": "ea9d2414",
   "metadata": {},
   "source": [
    "Question:-Q1. Is it permissible to use several import statements to import the same module? What would the\n",
    "goal be? Can you think of a situation where it would be beneficial?\n",
    "\n",
    "Answer:-Python modules are not imported multiple times, so running the import statement command twice will not reload the module.,If you want it to be reloaded, you have to execute the reload statement.,is encountered, all that happens is that the already imported module is bound to the name math in the importing module’s.\n",
    " if a module has already been imported, it’s not loaded again. You will simply get a reference to the module that has already been imported (it will come from sys. modules ).\n",
    " the same module is evaluated only once, in other words, the module-level scope is executed just once. If the module, once evaluated, is imported again, it’s second evaluation is skipped and the resolved already exports are used.\n",
    " We You can import the same module twice but Angular does not like modules with circular references and raise the circular dependency warnings on builds. Actually, the module helps you to organize an application into associative blocks of functionality."
   ]
  },
  {
   "cell_type": "raw",
   "id": "11b890f2",
   "metadata": {},
   "source": [
    "Question:-Q2. What are some of a module's characteristics? (Name at least one.)\n",
    "\n",
    "Answer:-A module is a part of a program. Programs are composed of one or more independently developed modules. A single module can contain one or several statements closely related each other. Modules work perfectly on individual level and can be integrated with other modules. A software program can be divided into modules to ease the job of programming and debugging as well. A program can be divided into small functional modules that work together to get the output. The process of subdividing a computer program into separate sub-programs is called Modular programming. Modular programming enables programmers to divide up the work and debug pieces of the program independently. The examples of modules are procedures, subroutines, and functions.\n",
    "\n",
    "The following are the desirable characteristics of a module.\n",
    "\n",
    "1. Modules contain instructions, processing logic, and data.\n",
    "\n",
    "2. Modules can be separately compiled and stored in a library.\n",
    "\n",
    "3. Modules can be included in a program.\n",
    "\n",
    "4. Module segments can be used by invoking a name and some parameters.\n",
    "\n",
    "5. Module segments can be used by other modules."
   ]
  },
  {
   "cell_type": "markdown",
   "id": "5c3538c6",
   "metadata": {},
   "source": [
    "Question:-Q3. Circular importing, such as when two modules import each other, can lead to dependencies and\n",
    "bugs that aren't visible. How can you go about creating a program that avoids mutual importing?\n",
    "\n",
    "Answer:-the Python Circular Import problem occurs when you accidentally name your working file the same as the module name and those modules depend on each other. This way the python opens the same file which causes a circular loop and eventually throws an error.\n",
    "For example, when you name your file as random.py and try to import “from random import randint”, it’ll throw a circular import error (also termed as from partially initialized module).\n",
    "\n",
    "Suppose, a module named module_name has function func_name, and you want to import it but it throws a circular error.\n",
    "\n",
    "The easiest way to make this work is by importing the module_name itself. The following example will help you to understand it –\n",
    "rea.py –\n",
    "\n",
    "import rea\n",
    " \n",
    "x=1\n",
    " \n",
    "if __name__ == '__main__':\n",
    "    print(rea.x)\n",
    "    \n",
    "Even if you are calling the same module, it’ll work. Use these cases to fix the issues in flask and Django where the filenames can match the pre-defined module names."
   ]
  },
  {
   "cell_type": "markdown",
   "id": "79538243",
   "metadata": {},
   "source": [
    "Question:-Q4. Why is _ _all_ _ in Python?\n",
    "\n",
    "Answer:-The __all__ tells the semantically “public” names from the module. If there is a name in __all__, the users are expected to use it, and they can expect that it will not change. By default, Python will export all names that do not start with an _. You certainly could rely on this mechanism\n",
    "Using the _ convention can be more elegant because it removes the redundancy of naming the names again.\n",
    "\n",
    "Python __all__ example\n",
    "The following file data.py explicitly exports the variables men and lifestyle.\n",
    "\n",
    "__all__ = ['men', 'lifestyle']\n",
    "\n",
    "men = 5\n",
    "\n",
    "def lifestyle(): return 'lifestyle'"
   ]
  },
  {
   "cell_type": "raw",
   "id": "c7fbc2f8",
   "metadata": {},
   "source": [
    "Question:-Q5. In what situation is it useful to refer to the _ _name_ _ attribute or the string '_ _main_ _'?\n",
    "\n",
    "Answer:-The __name__ variable (two underscores before and after) is a special Python variable. It gets its value depending on how we execute the containing script. Sometimes you write a script with functions that might be useful in other scripts as well. In Python, you can import that script as a module in another script.this special variable, you can decide whether you want to run the script. Or that you want to import the functions defined in the script.\n",
    "\n",
    "Run the script - Before all other code is run, the __name__ variable is set to __main__. After that, the main and myFunction def statements are run. Because the condition evaluates to true, the main function is called. This, in turn, calls myFunction. This prints out the value of __main__.\n",
    "Import the script in another script\n",
    "If we want to re-use myFunction in another script, for example importingScript.py, we can import nameScript.py as a module.\n",
    "In importingScript.py the __name__ variable is set to __main__. By importing nameScript, Python starts looking for a file by adding .py to the module name. It then runs the code contained in the imported file.\n",
    "\n",
    "But this time it is set to nameScript. Again the def statements for main and myFunction are run. But, now the condition evaluates to false and main is not called.\n",
    "\n",
    "In importingScript.py we call myFunction which outputs nameScript. NameScript is known to myFunction when that function was defined.\n",
    "\n",
    "If you would print __name__ in the importingScript, this would output __main__. The reason for this is that Python uses the value known in the scope of importingScript."
   ]
  },
  {
   "cell_type": "raw",
   "id": "529ca078",
   "metadata": {},
   "source": [
    "Question:-Q6. What are some of the benefits of attaching a program counter to the RPN interpreter\n",
    "application, which interprets an RPN script line by line?\n",
    "\n",
    "Answer:-RPN saves time and keystrokes. You avoid using and keeping track of parentheses while doing calculations. The process is similar to the way you learned math on paper.\n",
    "we can see the intermediary results as you perform your computations rather than just the answer at the end. This is extremely helpful for learning the logic. Math teachers are using this feature to improve student understanding of mathematics.\n",
    "\n",
    "An intermediate result allows the user to check the answer and correct errors more easily. It's easier to follow the stream of calculation. The user defines the priority of operators.\n",
    "\n",
    "RPN is logical because the user first gives the number and then tells what to do with it.\n",
    "\n",
    "An advantage of reverse Polish notation is that it removes the need for parentheses that are required by infix notation. While 3 − 4 × 5 can also be written 3 − (4 × 5), that means something quite different from (3 − 4) × 5. In reverse Polish notation, the former could be written 3 4 5 × −, which unambiguously means 3 (4 5 ×) − which reduces to 3 20 − (which can further be reduced to -17); the latter could be written 3 4 − 5 × (or 5 3 4 − ×, if keeping similar formatting), which unambiguously means (3 4 −) 5 ×."
   ]
  },
  {
   "cell_type": "raw",
   "id": "9879c62a",
   "metadata": {},
   "source": [
    "Question:-Q7. What are the minimum expressions or statements (or both) that you'd need to render a basic\n",
    "programming language like RPN primitive but complete— that is, capable of carrying out any\n",
    "computerised task theoretically possible?\n",
    "\n",
    "Answer:-The operator module contains a set of functions corresponding to Python’s operators. Some examples are operator.add(a, b) (adds two values), operator.ne(a, b) (same as a != b), and operator.attrgetter('id') (returns a callable that fetches the .id attribute).\n",
    "\n",
    "itertools.starmap(func, iter) assumes that the iterable will return a stream of tuples, and calls func using these tuples as the arguments:"
   ]
  }
 ],
 "metadata": {
  "kernelspec": {
   "display_name": "Python 3 (ipykernel)",
   "language": "python",
   "name": "python3"
  },
  "language_info": {
   "codemirror_mode": {
    "name": "ipython",
    "version": 3
   },
   "file_extension": ".py",
   "mimetype": "text/x-python",
   "name": "python",
   "nbconvert_exporter": "python",
   "pygments_lexer": "ipython3",
   "version": "3.9.7"
  }
 },
 "nbformat": 4,
 "nbformat_minor": 5
}
