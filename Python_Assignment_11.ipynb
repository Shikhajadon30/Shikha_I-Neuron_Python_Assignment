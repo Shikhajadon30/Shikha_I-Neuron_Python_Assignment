{
 "cells": [
  {
   "cell_type": "raw",
   "id": "4fe543bc",
   "metadata": {},
   "source": [
    "Question:- 1. Create an assert statement that throws an AssertionError if the variable spam is a negative\n",
    "              integer.\n",
    "\n",
    "Answer:- assert spam >= 10, 'The spam variable is less than 10.'"
   ]
  },
  {
   "cell_type": "raw",
   "id": "afe3ee1c",
   "metadata": {},
   "source": [
    "Question:- 2. Write an assert statement that triggers an AssertionError if the variables eggs and bacon contain\n",
    "              strings that are the same as each other, even if their cases are different (that is, 'hello' and 'hello' are\n",
    "              considered the same, and 'goodbye' and'GOODbye' are also considered the same).\n",
    "\n",
    "Answer:-  assert eggs.lower() != bacon.lower(), 'The eggs and bacon variables are the same!' or assert eggs.upper() !=                   bacon.upper(), 'The eggs and bacon variables are the same!'"
   ]
  },
  {
   "cell_type": "raw",
   "id": "e5e44281",
   "metadata": {},
   "source": [
    "Question:- 3. Create an assert statement that throws an AssertionError every time.\n",
    "\n",
    "Answer:-  assert False, 'This assertion always triggers.'"
   ]
  },
  {
   "cell_type": "raw",
   "id": "fd642e1b",
   "metadata": {},
   "source": [
    "Question:- 4. What are the two lines that must be present in your software in order to call logging.debug()?\n",
    "\n",
    "Answer:-  To be able to call logging.debug(), you must have these two lines at the start of your program:\n",
    "\n",
    "          import logging\n",
    "          logging.basicConfig(level=logging.DEBUG, format=' %(asctime)s -\n",
    "          %(levelname)s -  %(message)s')\n"
   ]
  },
  {
   "cell_type": "raw",
   "id": "1c1e0be1",
   "metadata": {},
   "source": [
    "Question:-5. What are the two lines that your program must have in order to have logging.debug() send a\n",
    "            logging message to a file named programLog.txt?\n",
    "\n",
    "Answer:- To be able to send logging messages to a file named programLog.txt with logging.debug(), you must have these two lines          at the start of your program:\n",
    "\n",
    "        import logging\n",
    "        >>> logging.basicConfig(filename='programLog.txt', level=logging.DEBUG,\n",
    "        format=' %(asctime)s -  %(levelname)s -  %(message)s')\n"
   ]
  },
  {
   "cell_type": "raw",
   "id": "f6bd1f5c",
   "metadata": {},
   "source": [
    "Question:-6. What are the five levels of logging?\n",
    "\n",
    "Answer:- DEBUG, INFO, WARNING, ERROR, and CRITICAL."
   ]
  },
  {
   "cell_type": "raw",
   "id": "57508db9",
   "metadata": {},
   "source": [
    "Question:- 7. What line of code would you add to your software to disable all logging messages?\n",
    "\n",
    "Answer:- logging.disable(logging.CRITICAL)"
   ]
  },
  {
   "cell_type": "raw",
   "id": "e05c24d6",
   "metadata": {},
   "source": [
    "Question:- 8.Why is using logging messages better than using print() to display the same message?\n",
    "\n",
    "Answer:-  1. Logging has different levels of severity that allows you to display log messages according to the level you want.              A print statement does not give you that flexibility\n",
    "\n",
    "          2. Logging allows you to direct the log messages to separate files that can then be used for post analysis while the              same is not easily available with print statement\n",
    "\n",
    "          3. You can set different log levels at individual code file level as well - some files may have INFO level while some              may have DEBUG level"
   ]
  },
  {
   "cell_type": "raw",
   "id": "21ff58b9",
   "metadata": {},
   "source": [
    "Question:- 9. What are the differences between the Step Over, Step In, and Step Out buttons in the debugger?\n",
    "\n",
    "Answer:- Step Over - An action to take in the debugger that will step over a given line. If the line contains a function the             function will be executed and the result returned without debugging each line.\n",
    "\n",
    "         Step in: means that if there is a function call, it goes inside the function and you can see how the function is                 executing line by line till it returns and you go back to the next line right after the function call.\n",
    "        \n",
    "         Step out – An action to take in the debugger that returns to the line where the current function was called."
   ]
  },
  {
   "cell_type": "raw",
   "id": "0726397c",
   "metadata": {},
   "source": [
    "Question:- 10.After you click Continue, when will the debugger stop ?\n",
    "\n",
    "Answer:- Continue execution until the current function returns. Continue execution, only stop when a breakpoint is encountered."
   ]
  },
  {
   "cell_type": "raw",
   "id": "decb5a5a",
   "metadata": {},
   "source": [
    "Question:- 11. What is the concept of a breakpoint?\n",
    "\n",
    "Answer:-  A breakpoint is a setting on a line of code that causes the debugger to pause when the program execution reaches the           line.\n",
    "\n",
    "            To set a breakpoint in IDLE, right-click the line and select Set Breakpoint from the context menu."
   ]
  }
 ],
 "metadata": {
  "kernelspec": {
   "display_name": "Python 3 (ipykernel)",
   "language": "python",
   "name": "python3"
  },
  "language_info": {
   "codemirror_mode": {
    "name": "ipython",
    "version": 3
   },
   "file_extension": ".py",
   "mimetype": "text/x-python",
   "name": "python",
   "nbconvert_exporter": "python",
   "pygments_lexer": "ipython3",
   "version": "3.9.7"
  }
 },
 "nbformat": 4,
 "nbformat_minor": 5
}
