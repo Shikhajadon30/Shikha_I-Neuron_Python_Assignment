{
 "cells": [
  {
   "cell_type": "raw",
   "id": "c939cb3a",
   "metadata": {},
   "source": [
    "Question:-1.In what modes should the PdfFileReader() and PdfFileWriter() File objects will be opened?\n",
    "\n",
    "Answer:- PdfFileReader() needs to be opened in read-binary mode by passing 'rb' as the second argument to open(). Likewise, the          File object passed to PyPDF2. PdfFileWriter() needs to be opened in write-binary mode with 'wb'."
   ]
  },
  {
   "cell_type": "raw",
   "id": "feed6b6c",
   "metadata": {},
   "source": [
    "Question:-2. From a PdfFileReader object, how do you get a Page object for page 5?\n",
    "\n",
    "Answer:- By Calling getPage(4) will return a Page object for page 5 since page 0 is the first page."
   ]
  },
  {
   "cell_type": "raw",
   "id": "2901da56",
   "metadata": {},
   "source": [
    "Question:-3. What PdfFileReader variable stores the number of pages in the PDF document?\n",
    "\n",
    "Answer:- The total number of pages in the document is stored in the numPages attribute of a PdfFileReader object."
   ]
  },
  {
   "cell_type": "raw",
   "id": "7d15f1ae",
   "metadata": {},
   "source": [
    "Question:- 4. If a PdfFileReader object’s PDF is encrypted with the password swordfish, what must you do\n",
    "before you can obtain Page objects from it?\n",
    "\n",
    "Answer:-the pdf has to be decrypted by calling .decrypt('swordfish')."
   ]
  },
  {
   "cell_type": "raw",
   "id": "b6dc363c",
   "metadata": {},
   "source": [
    "Question:- 5. What methods do you use to rotate a page?\n",
    "\n",
    "Answer:-A page can be rotated clockwise, by 90 degrees, when displayed or printed. The Page.GetRotation() method returns the           Page.Rotate enum specifying the current rotation. Similarly, Page.SetRotation() sets the current rotation"
   ]
  },
  {
   "cell_type": "raw",
   "id": "015cc0fb",
   "metadata": {},
   "source": [
    "Question:- 6. What is the difference between a Run object and a Paragraph object?\n",
    "\n",
    "Answer:- Run Objects : Runs are contiguous groups of characters within a paragraph with the same style.\n",
    "         Paragraph Object : A document contains multiple paragraphs. A paragraph begins on a new line and contains multiple              runs. The Document object contains a list of Paragraph objects for the paragraphs in the document. (A new paragraph            begins whenever the user presses ENTER or RETURN while typing in a Word document.)\n",
    "         "
   ]
  },
  {
   "cell_type": "raw",
   "id": "9d01e5bf",
   "metadata": {},
   "source": [
    "Question:-7. How do you obtain a list of Paragraph objects for a Document object that’s stored in a variable\n",
    "             named doc?\n",
    "             \n",
    "Answer:- By using doc.paragraph"
   ]
  },
  {
   "cell_type": "raw",
   "id": "5a253647",
   "metadata": {},
   "source": [
    "Question:- 8. What type of object has bold, underline, italic, strike, and outline variables?\n",
    "\n",
    "Answer:- A Run object has bold, underline,italic,strike and outline variables."
   ]
  },
  {
   "cell_type": "raw",
   "id": "1c031961",
   "metadata": {},
   "source": [
    "Question:- 9. What is the difference between False, True, and None for the bold variable?\n",
    "\n",
    "Answer:- Runs can be further styled using text attributes. Each attribute can be set to one of three values:\n",
    "        True (the attribute is always enabled, no matter what other styles are applied to the run),\n",
    "        False (the attribute is always disabled),\n",
    "        None (defaults to whatever the run’s style is set to)"
   ]
  },
  {
   "cell_type": "raw",
   "id": "a01f2c1e",
   "metadata": {},
   "source": [
    "Question:-10. How do you create a Document object for a new Word document?\n",
    "\n",
    "Answer:-By Calling the docx.Document() function."
   ]
  },
  {
   "cell_type": "raw",
   "id": "3e61a344",
   "metadata": {},
   "source": [
    "Question:-11. How do you add a paragraph with the text 'Hello, there!' to a Document object stored in a\n",
    "              variable named doc?\n",
    "\n",
    "Answer:- doc.add_paragraph('Hello there!')"
   ]
  },
  {
   "cell_type": "raw",
   "id": "d24398d2",
   "metadata": {},
   "source": [
    "Question:-12. What integers represent the levels of headings available in Word documents?\n",
    "\n",
    "Answer:- integer from 0 to 4\n",
    "         The arguments to add_heading() are a string of the heading text and an integer from 0 to 4. The integer 0 makes the            heading the Title style, which is used for the top of the document. Integers 1 to 4 are for various heading levels,            with 1 being the main heading and 4 the lowest subheading\n"
   ]
  }
 ],
 "metadata": {
  "kernelspec": {
   "display_name": "Python 3 (ipykernel)",
   "language": "python",
   "name": "python3"
  },
  "language_info": {
   "codemirror_mode": {
    "name": "ipython",
    "version": 3
   },
   "file_extension": ".py",
   "mimetype": "text/x-python",
   "name": "python",
   "nbconvert_exporter": "python",
   "pygments_lexer": "ipython3",
   "version": "3.9.7"
  }
 },
 "nbformat": 4,
 "nbformat_minor": 5
}
