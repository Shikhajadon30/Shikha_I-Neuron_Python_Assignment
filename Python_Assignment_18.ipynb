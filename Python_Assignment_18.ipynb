{
 "cells": [
  {
   "cell_type": "raw",
   "id": "f2a09732",
   "metadata": {},
   "source": [
    "Question:- 1. Create a zoo.py file first. Define the hours() function, which prints the string 'Open 9-5 daily'.\n",
    "Then, use the interactive interpreter to import the zoo module and call its hours() function.\n",
    "\n",
    "Answer:- \n",
    "from google.colab import files\n",
    "uploaded = files.upload()\n",
    "\n",
    "import zoo\n",
    "from importlib import reload\n",
    "reload(zoo)\n",
    "\n",
    "zoo.hours()"
   ]
  },
  {
   "cell_type": "raw",
   "id": "e1000c44",
   "metadata": {},
   "source": [
    "Question:-2. In the interactive interpreter, import the zoo module as menagerie and call its hours() function.\n",
    "\n",
    "Answer:-\n",
    "import zoo as menagerie\n",
    "menagerie.hours()"
   ]
  },
  {
   "cell_type": "raw",
   "id": "ca61b264",
   "metadata": {},
   "source": [
    "Question:-3. Using the interpreter, explicitly import and call the hours() function from zoo.\n",
    "\n",
    "Answer:-\n",
    "from zoo import hours\n",
    "hours()"
   ]
  },
  {
   "cell_type": "raw",
   "id": "4c5f0739",
   "metadata": {},
   "source": [
    "Question:-4. Import the hours() function as info and call it.\n",
    "\n",
    "Answer:-\n",
    "from zoo import hours as info\n",
    "info()"
   ]
  },
  {
   "cell_type": "raw",
   "id": "e3f48f21",
   "metadata": {},
   "source": [
    "Question:-5. Create a plain dictionary with the key-value pairs 'a': 1, 'b': 2, and 'c': 3, and print it out.\n",
    "\n",
    "Answer:-\n",
    "plain = {'a': 1, 'b': 2, 'c': 3}\n",
    "plain"
   ]
  },
  {
   "cell_type": "raw",
   "id": "9e1e001c",
   "metadata": {},
   "source": [
    "Question:-6.Make an OrderedDict called fancy from the same pairs listed in 5 and print it. Did it print in the\n",
    "same order as plain?\n",
    "\n",
    "Answer:-\n",
    "from collections import OrderedDict\n",
    "fancy = OrderedDict([('a', 1), ('b', 2), ('c', 3)])\n",
    "fancy\n",
    "\n",
    "# Yes, It will print."
   ]
  },
  {
   "cell_type": "raw",
   "id": "f5fd4eb9",
   "metadata": {},
   "source": [
    "Question:-7. Make a default dictionary called dict_of_lists and pass it the argument list. Make the list\n",
    "dict_of_lists['a'] and append the value &#39;something for a&#39; to it in one assignment. Print\n",
    "dict_of_lists['a'].\n",
    "\n",
    "Answer:-\n",
    "from collections import defaultdict\n",
    "dict_of_lists = defaultdict(list)\n",
    "dict_of_lists['a'].append('something for a')\n",
    "dict_of_lists['a']"
   ]
  }
 ],
 "metadata": {
  "kernelspec": {
   "display_name": "Python 3 (ipykernel)",
   "language": "python",
   "name": "python3"
  },
  "language_info": {
   "codemirror_mode": {
    "name": "ipython",
    "version": 3
   },
   "file_extension": ".py",
   "mimetype": "text/x-python",
   "name": "python",
   "nbconvert_exporter": "python",
   "pygments_lexer": "ipython3",
   "version": "3.9.7"
  }
 },
 "nbformat": 4,
 "nbformat_minor": 5
}
